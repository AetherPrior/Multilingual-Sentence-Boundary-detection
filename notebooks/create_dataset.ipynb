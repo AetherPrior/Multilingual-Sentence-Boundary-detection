{
 "cells": [
  {
   "cell_type": "code",
   "execution_count": 1,
   "source": [
    "import matplotlib.pyplot as plt\n",
    "%matplotlib inline\n",
    "import os\n",
    "import json\n",
    "import pickle\n",
    "import torch\n",
    "import numpy as np\n",
    "import re\n",
    "from tqdm.notebook import tqdm\n",
    "from sklearn.utils import shuffle\n",
    "from transformers import AutoTokenizer\n",
    "import warnings\n",
    "warnings.filterwarnings(\"ignore\")"
   ],
   "outputs": [],
   "metadata": {}
  },
  {
   "cell_type": "code",
   "execution_count": 2,
   "source": [
    "model_type = 'xlm-roberta-base' #albert-base-v1, bert-base-cased, bert-base-uncased\n",
    "data_path = \"../dataset/en-fr/\"\n",
    "\n",
    "with open(data_path + 'train_texts.txt', 'r', encoding='utf-8') as f:\n",
    "    train_text = f.readlines()\n",
    "with open(data_path + 'dev_texts.txt', 'r', encoding='utf-8') as f:\n",
    "    valid_text = f.readlines()\n",
    "with open(data_path + 'test_texts_2012.txt', 'r', encoding='utf-8') as f:\n",
    "    test_text = f.readlines()"
   ],
   "outputs": [],
   "metadata": {}
  },
  {
   "cell_type": "code",
   "execution_count": 3,
   "source": [
    "datasets = train_text, valid_text, test_text"
   ],
   "outputs": [],
   "metadata": {}
  },
  {
   "cell_type": "code",
   "execution_count": 4,
   "source": [
    "[len(ds) for ds in datasets]"
   ],
   "outputs": [
    {
     "output_type": "execute_result",
     "data": {
      "text/plain": [
       "[1029, 8, 11]"
      ]
     },
     "metadata": {},
     "execution_count": 4
    }
   ],
   "metadata": {}
  },
  {
   "cell_type": "code",
   "execution_count": 5,
   "source": [
    "def clean_text(text):\n",
    "    text = text.replace('!', '.')\n",
    "    text = text.replace(':', ',')\n",
    "    text = text.replace('--', ',')\n",
    "    \n",
    "    #reg = \"(?<=[a-zA-Z])-(?=[a-zA-Z]{2,})\"  ## comment this out please! no replacing '-'s for malay\n",
    "    #r = re.compile(reg, re.DOTALL)\n",
    "    #text = r.sub(' ', text)\n",
    "    \n",
    "    text = re.sub(r'\\s-\\s', ' , ', text)\n",
    "    \n",
    "#     text = text.replace('-', ',')\n",
    "    text = text.replace(';', '.')    # replace symbols with the most relevant counterparts\n",
    "    text = text.replace(' ,', ',')\n",
    "    text = text.replace('♫', '')\n",
    "    text = text.replace('...', '')\n",
    "    text = text.replace('.\\\"', ',')\n",
    "    text = text.replace('\"', ',')\n",
    "\n",
    "    text = re.sub(r'--\\s?--', '', text) # replace --   -- to ''\n",
    "    text = re.sub(r'\\s+', ' ', text)    # strip all whitespaces\n",
    "    \n",
    "    text = re.sub(r',\\s?,', ',', text)  # merge commas separating only whitespace\n",
    "    text = re.sub(r',\\s?\\.', '.', text) # , . -> ,\n",
    "    text = re.sub(r'(?<=[a-zA-Z0-9]),(?=[a-zA-Z0-9])',', ',text) # say,you -> say, you\n",
    "    text = re.sub(r'\\?\\s?\\.', '?', text)# ? . -> ?\n",
    "    text = re.sub(r'\\s+', ' ', text)    # strip all redundant whitespace that could have been caused by preprocessing\n",
    "    \n",
    "    text = re.sub(r'\\s+\\?', '?', text)\n",
    "    text = re.sub(r'\\s+,', ',', text)\n",
    "    text = re.sub(r'\\.[\\s+\\.]+', '. ', text)\n",
    "    text = re.sub(r'\\s+\\.', '.', text)\n",
    "    \n",
    "    return text.strip().lower()"
   ],
   "outputs": [],
   "metadata": {}
  },
  {
   "cell_type": "code",
   "execution_count": 6,
   "source": [
    "datasets = [[clean_text(text) for text in ds] for ds in datasets]"
   ],
   "outputs": [],
   "metadata": {}
  },
  {
   "cell_type": "code",
   "execution_count": 7,
   "source": [
    "[len([t for t in ds if len(t)>0]) for ds in datasets] # remove all 0 word datasets"
   ],
   "outputs": [
    {
     "output_type": "execute_result",
     "data": {
      "text/plain": [
       "[1029, 8, 11]"
      ]
     },
     "metadata": {},
     "execution_count": 7
    }
   ],
   "metadata": {}
  },
  {
   "cell_type": "code",
   "execution_count": 8,
   "source": [
    "[len(' '.join(ds).split(' ')) for ds in datasets] # make them sentences separated by a space for tokenizing"
   ],
   "outputs": [
    {
     "output_type": "execute_result",
     "data": {
      "text/plain": [
       "[2347637, 17395, 18539]"
      ]
     },
     "metadata": {},
     "execution_count": 8
    }
   ],
   "metadata": {}
  },
  {
   "cell_type": "code",
   "execution_count": 9,
   "source": [
    "tokenizer = AutoTokenizer.from_pretrained(model_type)"
   ],
   "outputs": [],
   "metadata": {}
  },
  {
   "cell_type": "code",
   "execution_count": 10,
   "source": [
    "target_ids = tokenizer.encode(\".?,\")[1:-1]\n",
    "target_ids"
   ],
   "outputs": [
    {
     "output_type": "execute_result",
     "data": {
      "text/plain": [
       "[6, 5, 32, 4]"
      ]
     },
     "metadata": {},
     "execution_count": 10
    }
   ],
   "metadata": {}
  },
  {
   "cell_type": "code",
   "execution_count": 11,
   "source": [
    "target_token2id = {t: tokenizer.encode(t)[-2] for t in \".?,\"}\n",
    "target_token2id"
   ],
   "outputs": [
    {
     "output_type": "execute_result",
     "data": {
      "text/plain": [
       "{'.': 5, '?': 705, ',': 4}"
      ]
     },
     "metadata": {},
     "execution_count": 11
    }
   ],
   "metadata": {}
  },
  {
   "cell_type": "code",
   "execution_count": 12,
   "source": [
    "target_ids = list(target_token2id.values())\n",
    "target_ids"
   ],
   "outputs": [
    {
     "output_type": "execute_result",
     "data": {
      "text/plain": [
       "[5, 705, 4]"
      ]
     },
     "metadata": {},
     "execution_count": 12
    }
   ],
   "metadata": {}
  },
  {
   "cell_type": "code",
   "execution_count": 13,
   "source": [
    "id2target = {\n",
    "    0: 0,\n",
    "    -1: -1,\n",
    "}\n",
    "for i, ti in enumerate(target_ids):\n",
    "    id2target[ti] = i+1\n",
    "target2id = {value: key for key, value in id2target.items()}\n",
    "\n",
    "def create_target(text):\n",
    "    encoded_words, targets = [], []\n",
    "    \n",
    "    words = text.split(' ')\n",
    "\n",
    "    for word in words:\n",
    "        target = 0\n",
    "        for target_token, target_id in target_token2id.items():\n",
    "            if word.endswith(target_token):\n",
    "                word = word.rstrip(target_token)\n",
    "                target = id2target[target_id]\n",
    "\n",
    "        encoded_word = tokenizer.encode(word, add_special_tokens=False)\n",
    "        \n",
    "        for w in encoded_word:\n",
    "            encoded_words.append(w)\n",
    "        for _ in range(len(encoded_word)-1):\n",
    "            targets.append(-1)\n",
    "        targets.append(0)\n",
    "        \n",
    "        if target != 0:\n",
    "            encoded_words.append(target2id[target])\n",
    "        else:\n",
    "            encoded_words.append(6)\n",
    "        targets.append(target)\n",
    "        \n",
    "        \n",
    "#         print([tokenizer._convert_id_to_token(ew) for ew in encoded_word], target)\n",
    "        assert(len(encoded_word)>0)\n",
    "\n",
    "    encoded_words = [tokenizer.cls_token_id or tokenizer.bos_token_id] +\\\n",
    "                    encoded_words +\\\n",
    "                    [tokenizer.sep_token_id or tokenizer.eos_token_id]\n",
    "    targets = [-1] + targets + [-1]\n",
    "    \n",
    "    return encoded_words, targets"
   ],
   "outputs": [],
   "metadata": {}
  },
  {
   "cell_type": "code",
   "execution_count": 14,
   "source": [
    "print(id2target)\n",
    "# s = \"Tyranosaurus: kill me? Not enough, rumplestilskin -- said the co-pilot -- ...\"\n",
    "s = \"it  can  be  a  very  complicated  thing, the  ocean. and  it  can  be  a  very  complicated  thing, what  human  health  is.\"\n",
    "print(s)\n",
    "s = clean_text(s)\n",
    "print(s)\n",
    "data, tgts = create_target(s)\n",
    "print(data)\n",
    "print(tgts)\n",
    "[(tokenizer._convert_id_to_token(d), ta) for d,ta in zip(data[1:-1], tgts[1:-1])]"
   ],
   "outputs": [
    {
     "output_type": "stream",
     "name": "stdout",
     "text": [
      "{0: 0, -1: -1, 5: 1, 705: 2, 4: 3}\n",
      "it  can  be  a  very  complicated  thing, the  ocean. and  it  can  be  a  very  complicated  thing, what  human  health  is.\n",
      "it can be a very complicated thing, the ocean. and it can be a very complicated thing, what human health is.\n",
      "[0, 442, 6, 831, 6, 186, 6, 10, 6, 4552, 6, 96704, 297, 6, 13580, 4, 70, 6, 77904, 5, 136, 6, 442, 6, 831, 6, 186, 6, 10, 6, 4552, 6, 96704, 297, 6, 13580, 4, 2367, 6, 14135, 6, 16227, 6, 83, 5, 2]\n",
      "[-1, 0, 0, 0, 0, 0, 0, 0, 0, 0, 0, -1, 0, 0, 0, 3, 0, 0, 0, 1, 0, 0, 0, 0, 0, 0, 0, 0, 0, 0, 0, 0, -1, 0, 0, 0, 3, 0, 0, 0, 0, 0, 0, 0, 1, -1]\n"
     ]
    },
    {
     "output_type": "execute_result",
     "data": {
      "text/plain": [
       "[('▁it', 0),\n",
       " ('▁', 0),\n",
       " ('▁can', 0),\n",
       " ('▁', 0),\n",
       " ('▁be', 0),\n",
       " ('▁', 0),\n",
       " ('▁a', 0),\n",
       " ('▁', 0),\n",
       " ('▁very', 0),\n",
       " ('▁', 0),\n",
       " ('▁complicat', -1),\n",
       " ('ed', 0),\n",
       " ('▁', 0),\n",
       " ('▁thing', 0),\n",
       " (',', 3),\n",
       " ('▁the', 0),\n",
       " ('▁', 0),\n",
       " ('▁ocean', 0),\n",
       " ('.', 1),\n",
       " ('▁and', 0),\n",
       " ('▁', 0),\n",
       " ('▁it', 0),\n",
       " ('▁', 0),\n",
       " ('▁can', 0),\n",
       " ('▁', 0),\n",
       " ('▁be', 0),\n",
       " ('▁', 0),\n",
       " ('▁a', 0),\n",
       " ('▁', 0),\n",
       " ('▁very', 0),\n",
       " ('▁', 0),\n",
       " ('▁complicat', -1),\n",
       " ('ed', 0),\n",
       " ('▁', 0),\n",
       " ('▁thing', 0),\n",
       " (',', 3),\n",
       " ('▁what', 0),\n",
       " ('▁', 0),\n",
       " ('▁human', 0),\n",
       " ('▁', 0),\n",
       " ('▁health', 0),\n",
       " ('▁', 0),\n",
       " ('▁is', 0),\n",
       " ('.', 1)]"
      ]
     },
     "metadata": {},
     "execution_count": 14
    }
   ],
   "metadata": {}
  },
  {
   "cell_type": "code",
   "execution_count": 14,
   "source": [
    "# encoded_texts, targets = create_target(transcripts[164])"
   ],
   "outputs": [],
   "metadata": {}
  },
  {
   "cell_type": "code",
   "execution_count": 15,
   "source": [
    "# print(datasets[0][0])"
   ],
   "outputs": [],
   "metadata": {}
  },
  {
   "cell_type": "code",
   "execution_count": 15,
   "source": [
    "encoded_texts, targets = [], []\n",
    "\n",
    "for ds in datasets:\n",
    "    x = list(zip(*(create_target(ts) for ts in tqdm(ds))))\n",
    "    encoded_texts.append(x[0])\n",
    "    targets.append(x[1])"
   ],
   "outputs": [
    {
     "output_type": "display_data",
     "data": {
      "application/vnd.jupyter.widget-view+json": {
       "version_major": 2,
       "version_minor": 0,
       "model_id": "e79e5b530aae46f7a4223b0aabbaab37"
      },
      "text/plain": [
       "  0%|          | 0/1029 [00:00<?, ?it/s]"
      ]
     },
     "metadata": {}
    },
    {
     "output_type": "display_data",
     "data": {
      "application/vnd.jupyter.widget-view+json": {
       "version_major": 2,
       "version_minor": 0,
       "model_id": "b190a61b390b4616ac9558622759f550"
      },
      "text/plain": [
       "  0%|          | 0/8 [00:00<?, ?it/s]"
      ]
     },
     "metadata": {}
    },
    {
     "output_type": "display_data",
     "data": {
      "application/vnd.jupyter.widget-view+json": {
       "version_major": 2,
       "version_minor": 0,
       "model_id": "1b26b1e69be34f3896ac04861a501fd1"
      },
      "text/plain": [
       "  0%|          | 0/11 [00:00<?, ?it/s]"
      ]
     },
     "metadata": {}
    }
   ],
   "metadata": {}
  },
  {
   "cell_type": "code",
   "execution_count": 22,
   "source": [
    "print(len(encoded_texts[1]))\n",
    "print(np.array(encoded_texts).shape, len(targets))"
   ],
   "outputs": [
    {
     "output_type": "stream",
     "name": "stdout",
     "text": [
      "4613\n",
      "(3,) 3\n"
     ]
    }
   ],
   "metadata": {}
  },
  {
   "cell_type": "code",
   "execution_count": 16,
   "source": [
    "# encoded_words, targets\n",
    "comma_count = 0\n",
    "word_count = 0\n",
    "q_count = 0\n",
    "p_count = 0\n",
    "\n",
    "for target in targets:\n",
    "    for tar in target:\n",
    "        for ta in tar:\n",
    "            comma_count += 1 if (ta == 3) else 0\n",
    "            q_count += 1 if (ta == 2) else 0\n",
    "            p_count += 1 if (ta == 1) else 0\n",
    "   \n",
    "sc = 0\n",
    "mwc = 0\n",
    "for text,target in zip(encoded_texts, targets):\n",
    "    for tex,tar  in zip(text,target):\n",
    "        en = 0\n",
    "        for t,ta in zip(tex,tar):\n",
    "            if t not in [6,5,0,-1,1,2,4,705] and ta != -1:\n",
    "                word_count+=1\n",
    "                en+=1\n",
    "            elif t in [705, 5]:\n",
    "                mwc*=sc\n",
    "                sc += 1\n",
    "                mwc += en\n",
    "                mwc /= sc\n",
    "                en = 0\n",
    "                \n",
    "print(mwc)\n",
    "     \n",
    "print(comma_count, word_count, q_count, p_count)\n",
    "            \n",
    "\n",
    "'''\n",
    "for te, ta in zip(encoded_texts[0][0], targets[0][0]):\n",
    "    print(f\"{tokenizer._convert_id_to_token(te):15}\\t{ta}\")\n",
    "'''"
   ],
   "outputs": [
    {
     "output_type": "stream",
     "name": "stdout",
     "text": [
      "15.461595378723963\n",
      "198800 2383282 10332 141628\n"
     ]
    },
    {
     "output_type": "execute_result",
     "data": {
      "text/plain": [
       "'\\nfor te, ta in zip(encoded_texts[0][0], targets[0][0]):\\n    print(f\"{tokenizer._convert_id_to_token(te):15}\\t{ta}\")\\n'"
      ]
     },
     "metadata": {},
     "execution_count": 16
    }
   ],
   "metadata": {}
  },
  {
   "cell_type": "code",
   "execution_count": 17,
   "source": [
    "def return_counts(encoded_texts, targets):\n",
    "    # encoded_words, targets\n",
    "    comma_count = 0\n",
    "    word_count = 0\n",
    "    q_count = 0\n",
    "    p_count = 0\n",
    "    space_count = 0\n",
    "    for target in targets:\n",
    "        for tar in target:\n",
    "            for ta in tar:\n",
    "                comma_count += 1 if (ta == 3) else 0\n",
    "                q_count += 1 if (ta == 2) else 0\n",
    "                p_count += 1 if (ta == 1) else 0\n",
    "    sc = 0\n",
    "    mwc = 0\n",
    "    for text,target in zip(encoded_texts, targets):\n",
    "        for tex,tar  in zip(text,target):\n",
    "            en = 0\n",
    "            for t,ta in zip(tex,tar):\n",
    "                if t not in [6,5,0,-1,1,2,4,705] and ta != -1:\n",
    "                    word_count+=1\n",
    "                    en+=1\n",
    "                elif t == 6 and ta != -1: # space\n",
    "                    space_count+=1\n",
    "                elif t in [705, 5]:\n",
    "                    mwc*=sc\n",
    "                    sc += 1\n",
    "                    mwc += en\n",
    "                    mwc /= sc\n",
    "                    en = 0\n",
    "    return space_count, p_count, q_count, comma_count"
   ],
   "outputs": [],
   "metadata": {}
  },
  {
   "cell_type": "code",
   "execution_count": 18,
   "source": [
    "os.makedirs(data_path + model_type, exist_ok=True)\n",
    "space_count, p_count, q_count, comma_count = return_counts(encoded_texts,targets)"
   ],
   "outputs": [],
   "metadata": {}
  },
  {
   "cell_type": "code",
   "execution_count": 19,
   "source": [
    "\n",
    "for i, name in enumerate(('train', 'valid', 'test')):\n",
    "    with open(data_path + f'{model_type}/{name}_data.pkl', 'wb') as f:\n",
    "        pickle.dump((encoded_texts[i], targets[i], space_count, p_count, q_count, comma_count), f)"
   ],
   "outputs": [],
   "metadata": {}
  },
  {
   "cell_type": "code",
   "execution_count": 23,
   "source": [
    "from collections import Counter\n",
    "\n",
    "for ds_targets in targets:\n",
    "    c = Counter((target for t in ds_targets for target in t))\n",
    "    print('\\t'.join([str(c[i]) for i in (1,2,3,0,-1)]))"
   ],
   "outputs": [
    {
     "output_type": "stream",
     "name": "stdout",
     "text": [
      "139619\t10215\t188165\t2001462\t267423\n",
      "909\t71\t1225\t15141\t1899\n",
      "1100\t46\t1120\t16208\t2072\n"
     ]
    }
   ],
   "metadata": {}
  },
  {
   "cell_type": "code",
   "execution_count": null,
   "source": [
    "e = []\n",
    "i = 0\n",
    "\n",
    "raw_words = datasets[1][2].split(' ')\n",
    "\n",
    "for te, ta in zip(encoded_texts[1][2], targets[1][2]):\n",
    "    if ta == -1:\n",
    "        e.append(te)\n",
    "    else:\n",
    "        e.append(te)\n",
    "        print(f\"{tokenizer.decode(e):15}\\t{tokenizer.decode(target2id[ta]):10}\\t{raw_words[i]}\")\n",
    "        e = []\n",
    "        i += 1\n",
    "print(f\"{tokenizer.decode(e):15}\\t{tokenizer.decode(target2id[ta]):10}\\t\")"
   ],
   "outputs": [],
   "metadata": {}
  },
  {
   "cell_type": "code",
   "execution_count": 79,
   "source": [
    "print(tokenizer.decode(encoded_texts[0][0]))\n",
    "#print(encoded_texts[0][0])\n",
    "print(datasets[0][0])\n",
    "# print(encoded_texts[0][1])"
   ],
   "outputs": [
    {
     "output_type": "stream",
     "name": "stdout",
     "text": [
      "<s> it  can  be  a  very  complicated  thing, the  ocean. and  it  can  be  a  very  complicated  thing, what  human  health  is. and  bringing  those  two  together  might  seem  a  very  daunting  task, but  what  i'm  going  to  try  to  say  is  that  even  in  that  complexity, there's  some  simple  themes  that  i  think, if  we  understand, we  can  really  move  forward. and  those  simple  themes  aren't  really  themes  about  the  complex  science  of  what's  going  on, but  things  that  we  all  pretty  well  know. and  i'm  going  to  start  with  this  one, if  momma  ain't  happy, ain't  nobody  happy. we  know  that, right? we've  experienced  that. and  if  we  just  take  that  and  we  build  from  there, then  we  can  go  to  the  next  step, which  is  that  if  the  ocean  ain't  happy, ain't  nobody  happy. that's  the  theme  of  my  talk. and  we're  making  the  ocean  pretty  unhappy  in  a  lot  of  different  ways. this  is  a  shot  of  cannery  row  in  1932. cannery  row, at  the  time, had  the  biggest  industrial  canning  operation  on  the  west  coast. we  piled  enormous  amounts  of  pollution  into  the  air  and  into  the  water. rolf  bolin, who  was  a  professor  at  the  hopkin's  marine  station  where  i  work, wrote  in  the  1940s  that,the  fumes  from  the  scum  floating  on  the  inlets  of  the  bay  were  so  bad  they  turned  lead  based  paints  black, people  working  in  these  canneries  could  barely  stay  there  all  day  because  of  the  smell, but  you  know  what  they  came  out  saying? they  say,you  know  what  you  smell? you  smell  money, that  pollution  was  money  to  that  community, and  those  people  dealt  with  the  pollution  and  absorbed  it  into  their  skin  and  into  their  bodies  because  they  needed  the  money. we  made  the  ocean  unhappy. we  made  people  very  unhappy, and  we  made  them  unhealthy. the  connection  between  ocean  health  and  human  health  is  actually  based  upon  another  couple  simple  adages, and  i  want  to  call  that,pinch  a  minnow, hurt  a  whale, the  pyramid  of  ocean  life  now, when  an  ecologist  looks  at  the  ocean, i  have  to  tell  you, we  look  at  the  ocean  in  a  very  different  way, and  we  see  different  things  than  when  a  regular  person  looks  at  the  ocean  because  when  an  ecologist  looks  at  the  ocean, we  see  all  those  interconnections. we  see  the  base  of  the  food  chain, the  plankton, the  small  things, and  we  see  how  those  animals  are  food  to  animals  in  the  middle  of  the  pyramid, and  on  so  up  this  diagram. and  that  flow, that  flow  of  life, from  the  very  base  up  to  the  very  top, is  the  flow  that  ecologists  see. and  that's  what  we're  trying  to  preserve  when  we  say,save  the  ocean. heal  the  ocean, it's  that  pyramid. now  why  does  that  matter  for  human  health? because  when  we  jam  things  in  the  bottom  of  that  pyramid  that  shouldn't  be  there, some  very  frightening  things  happen. pollutants, some  pollutants  have  been  created  by  us, molecules  like  pcbs  that  can't  be  broken  down  by  our  bodies. and  they  go  in  the  base  of  that  pyramid, and  they  drift  up. they're  passed  up  that  way, on  to  predators  and  on  to  the  top  predators, and  in  so  doing, they  accumulate. now, to  bring  that  home, i  thought  i'd  invent  a  little  game. we  don't  really  have  to  play  it. we  can  just  think  about  it  here. it's  the  styrofoam  and  chocolate  game. imagine  that  when  we  got  on  this  boat, we  were  all  given  two  styrofoam  peanuts. can't  do  much  with  them, put  them  in  your  pocket. suppose  the  rules  are, every  time  you  offer  somebody  a  drink, you  give  them  the  drink, and  you  give  them  your  styrofoam  peanuts  too. what'll  happen  is  that  the  styrofoam  peanuts  will  start  moving  through  our  society  here, and  they  will  accumulate  in  the  drunkest, stingiest  people. there's  no  mechanism  in  this  game  for  them  to  go  anywhere  but  into  a  bigger  and  bigger  pile  of  indigestible  styrofoam  peanuts. and  that's  exactly  what  happens  with  pdbs  in  this  food  pyramid, they  accumulate  into  the  top  of  it. now  suppose, instead  of  styrofoam  peanuts, we  take  these  lovely  little  chocolates  that  we  get  and  we  had  those  instead. well, some  of  us  would  be  eating  those  chocolates  instead  of  passing  them  around, and  instead  of  accumulating, they  will  just  pass  into  our  group  here  and  not  accumulate  in  any  one  group  because  they're  absorbed  by  us. and  that's  the  difference  between  a  pcb  and, say, something  natural  like  an  omega-3, something  we  want  out  of  the  marine  food  chain. pcbs  accumulate. we  have  great  examples  of  that, unfortunately. pcbs  accumulate  in  dolphins  in  sarasota  bay, in  texas, in  north  carolina. they  get  into  the  food  chain. the  dolphins  eat  the  fish  that  have  pcbs  from  the  plankton, and  those  pcbs, being  fat  soluble, accumulate  in  these  dolphins. now, a  dolphin, mother  dolphin, any  dolphin, there's  only  one  way  that  a  pcb  can  get  out  of  a  dolphin. and  what's  that? in  mother's  milk. here's  a  diagram  of  the  pcb  load  of  dolphins  in  sarasota  bay. adult  males, a  huge  load. juveniles, a  huge  load. females  after  their  first  calf  is  already  weaned, a  lower  load. those  females, they're  not  trying  to. those  females  are  passing  the  pcbs  in  the  fat  of  their  own  mother's  milk  into  their  offspring, and  their  offspring  don't  survive. the  death  rate  in  these  dolphins, for  the  first  calf  born  of  every  female  dolphin, is  60  to  80  percent. these  mothers  pump  their  first  offspring  full  of  this  pollutant, and  most  of  them  die. now, the  mother  then  can  go  and  reproduce, but  what  a  terrible  price  to  pay  for  the  accumulation  of  this  pollutant  in  these  animals, the  death  of  the  first  born  calf. there's  another  top  predator  in  the  ocean, it  turns  out. that  top  predator, of  course, is  us. and  we  also  are  eating  meat  that  comes  from  some  of  these  same  places. this  is  whale  meat  that  i  photographed  in  a  grocery  store  in  tokyo, or  is  it? in  fact, what  we  did  a  few  years  ago  was  learn  how  to  smuggle  a  molecular  biology  lab  into  tokyo  and  use  it  to  genetically  test  the  dna  out  of  whale  meat  samples  and  identify  what  they  really  were. and  some  of  those  whale  meat  samples  were  whale  meat. some  of  them  were  illegal  whale  meat, by  the  way. that's  another  story. but  some  of  them  were  not  whale  meat  at  all. even  though  they  were  labeled  whale  meat, they  were  dolphin  meat. some  of  them  were  dolphin  liver. some  of  them  were  dolphin  blubber. and  those  dolphin  parts  had  a  huge  load  of  pcbs, dioxins  and  heavy  metals. and  that  huge  load  was  passing  into  the  people  that  ate  this  meat. it  turns  out  that  a  lot  of  dolphins  are  being  sold  as  meat  in  the  whale  meat  market  around  the  world. that's  a  tragedy  for  those  populations, but  it's  also  a  tragedy  for  the  people  eating  them  because  they  don't  know  that  that's  toxic  meat. we  had  these  data  a  few  years  ago. i  remember  sitting  at  my  desk  being  about  the  only  person  in  the  world  who  knew  that  whale  meat  being  sold  in  these  markets  was  really  dolphin  meat, and  it  was  toxic. it  had  two  to  three  to-400  times  the  toxic  loads  ever  allowed  by  the  epa. and  i  remember  there  sitting  at  my  desk  thinking,well, i  know  this. this  is  a  great  scientific  discovery, but  it  was  so  awful. and  for  the  very  first  time  in  my  scientific  career, i  broke  scientific  protocol, which  is  that  you  take  the  data  and  publish  them  in  scientific  journals  and  then  begin  to  talk  about  them. we  sent  a  very  polite  letter  to  the  minister  of  health  in  japan  and  simply  pointed  out  that  this  is  an  intolerable  situation, not  for  us, but  for  the  people  of  japan  because  mothers  who  may  be  breastfeeding, who  may  have  young  children, would  be  buying  something  that  they  thought  was  healthy, but  it  was  really  toxic. that  led  to  a  whole  series  of  other  campaigns  in  japan, and  i'm  really  proud  to  say  that  at  this  point, it's  very  difficult  to  buy  anything  in  japan  that's  labeled  incorrectly, even  though  they're  still  selling  whale  meat, which  i  believe  they  shouldn't. but  at  least  it's  labeled  correctly, and  you're  no  longer  going  to  be  buying  toxic  dolphin  meat  instead. it  isn't  just  there  that  this  happens, but  in  a  natural  diet  of  some  communities  in  the  canadian  arctic  and  in  the  united  states  and  in  the  european  arctic, a  natural  diet  of  seals  and  whales  leads  to  an  accumulation  of  pcbs  that  have  gathered  up  from  all  parts  of  the  world  and  ended  up  in  these  women. these  women  have  toxic  breast  milk. they  cannot  feed  their  offspring, their  children, their  breast  milk  because  of  the  accumulation  of  these  toxins  in  their  food  chain, in  their  part  of  the  world's  ocean  pyramid. that  means  their  immune  systems  are  compromised. it  means  that  their  children's  development  can  be  compromised. and  the  world's  attention  on  this  over  the  last  decade  has  reduced  the  problem  for  these  women, not  by  changing  the  pyramid, but  by  changing  what  they  particularly  eat  out  of  it. we've  taken  them  out  of  their  natural  pyramid  in  order  to  solve  this  problem. that's  a  good  thing  for  this  particular  acute  problem, but  it  does  nothing  to  solve  the  pyramid  problem. there's  other  ways  of  breaking  the  pyramid. the  pyramid, if  we  jam  things  in  the  bottom, can  get  backed  up  like  a  sewer  line  that's  clogged. and  if  we  jam  nutrients, sewage, fertilizer  in  the  base  of  that  food  pyramid, it  can  back  up  all  through  it. we  end  up  with  things  we've  heard  about  before, red  tides, for  example, which  are  blooms  of  toxic  algae  floating  through  the  oceans  causing  neurological  damage. we  can  also  see  blooms  of  bacteria, blooms  of  viruses  in  the  ocean. these  are  two  shots  of  a  red  tide  coming  on  shore  here  and  a  bacteria  in  the  genus  vibrio, which  includes  the  genus  that  has  cholera  in  it. how  many  people  have  seen  a,beach  closed, sign? why  does  that  happen? it  happens  because  we  have  jammed  so  much  into  the  base  of  the  natural  ocean  pyramid  that  these  bacteria  clog  it  up  and  overfill  onto  our  beaches. often  what  jams  us  up  is  sewage. now  how  many  of  you  have  ever  gone  to  a  state  park  or  a  national  park  where  you  had  a  big  sign  at  the  front  saying,closed  because  human  sewage  is  so  far  over  this  park  that  you  can't  use  it, not  very  often. we  wouldn't  tolerate  that. we  wouldn't  tolerate  our  parks  being  swamped  by  human  sewage, but  beaches  are  closed  a  lot  in  our  country. they're  closed  more  and  more  and  more  all  around  the  world  for  the  same  reason, and  i  believe  we  shouldn't  tolerate  that  either. it's  not  just  a  question  of  cleanliness. it's  also  a  question  of  how  those  organisms  then  turn  into  human  disease. these  vibrios, these  bacteria, can  actually  infect  people. they  can  go  into  your  skin  and  create  skin  infections. this  is  a  graph  from  noaa's  ocean  and  human  health  initiative, showing  the  rise  of  the  infections  by  vibrio  in  people  over  the  last  few  years. surfers, for  example, know  this  incredibly. and  if  you  can  see  on  some  surfing  sites, in  fact, not  only  do  you  see  what  the  waves  are  like  or  what  the  weather's  like, but  on  some  surf  rider  sites, you  see  a  little  flashing  poo  alert. that  means  that  the  beach  might  have  great  waves, but  it's  a  dangerous  place  for  surfers  to  be  because  they  can  carry  with  them, even  after  a  great  day  of  surfing, this  legacy  of  an  infection  that  might  take  a  very  long  time  to  solve. some  of  these  infections  are  actually  carrying  antibiotic  resistance  genes  now, and  that  makes  them  even  more  difficult. these  same  infections  create  harmful  algal  blooms. those  blooms  are  generating  other  kinds  of  chemicals. this  is  just  a  simple  list  of  some  of  the  types  of  poisons  that  come  out  of  these  harmful  algal  blooms, shellfish  poisoning,fish  ciguatera, diarrheic  shellfish  poisoning, you  don't  want  to  know  about  that, neurotoxic  shellfish  poisoning, paralytic  shellfish  poisoning. these  are  things  that  are  getting  into  our  food  chain  because  of  these  blooms. rita  calwell  very  famously  traced  a  very  interesting  story  of  cholera  into  human  communities, brought  there, not  by  a  normal  human  vector, but  by  a  marine  vector, this  copepod. copepods  are  small  crustaceans. they're  a  tiny  fraction  of  an  inch  long, and  they  can  carry  on  their  little  legs  some  of  the  cholera  bacteria  that  then  leads  to  human  disease. that  has  sparked  cholera  epidemics  in  ports  along  the  world  and  has  led  to  increased  concentration  on  trying  to  make  sure  shipping  doesn't  move  these  vectors  of  cholera  around  the  world. so  what  do  you  do? we  have  major  problems  in  disrupted  ecosystem  flow  that  the  pyramid  may  not  be  working  so  well, that  the  flow  from  the  base  up  into  it  is  being  blocked  and  clogged. what  do  you  do  when  you  have  this  sort  of  disrupted  flow? well, there's  a  bunch  of  things  you  could  do. you  could  call  joe  the  plumber, for  example. and  he  could  come  in  and  fix  the  flow. but  in  fact, if  you  look  around  the  world, not  only  are  there  hope  spots  for  where  we  may  be  able  to  fix  problems, there  have  been  places  where  problems  have  been  fixed, where  people  have  come  to  grips  with  these  issues  and  begun  to  turn  them  around. monterey  is  one  of  those. i  started  out  showing  how  much  we  had  distressed  the  monterey  bay  ecosystem  with  pollution  and  the  canning  industry  and  all  of  the  attendant  problems. in  1932, that's  the  picture. in  2009, the  picture  is  dramatically  different. the  canneries  are  gone. the  pollution  has  abated. but  there's  a  greater  sense  here  that  what  the  individual  communities  need  is  working  ecosystems. they  need  a  functioning  pyramid  from  the  base  all  the  way  to  the  top. and  that  pyramid  in  monterey, right  now, because  of  the  efforts  of  a  lot  of  different  people, is  functioning  better  than  it's  ever  functioned  for  the  last  150  years. it  didn't  happen  accidentally. it  happened  because  many  people  put  their  time  and  effort  and  their  pioneering  spirit  into  this. on  the  left  there, julia  platt, the  mayor  of  my  little  hometown  in  pacific  grove. at  74  years  old, became  mayor  because  something  had  to  be  done  to  protect  the  ocean. in  1931, she  produced  california's  first  community  based  marine  protected  area, right  next  to  the  biggest  polluting  cannery, because  julia  knew  that  when  the  canneries  eventually  were  gone, the  ocean  needed  a  place  to  grow  from, that  the  ocean  needed  a  place  to  spark  a  seed, and  she  wanted  to  provide  that  seed. other  people, like  david  packard  and  julie  packard, who  were  instrumental  in  producing  the  monterey  bay  aquarium  to  lock  into  people's  notion  that  the  ocean  and  the  health  of  the  ocean  ecosystem  were  just  as  important  to  the  economy  of  this  area  as  eating  the  ecosystem  would  be. that  change  in  thinking  has  led  to  a  dramatic  shift, not  only  in  the  fortunes  of  monterey  bay, but  other  places  around  the  world. well, i  want  to  leave  you  with  the  thought  that  what  we're  really  trying  to  do  here  is  protect  this  ocean  pyramid, and  that  ocean  pyramid  connects  to  our  own  pyramid  of  life. it's  an  ocean  planet, and  we  think  of  ourselves  as  a  terrestrial  species, but  the  pyramid  of  life  in  the  ocean  and  our  own  lives  on  land  are  intricately  connected. and  it's  only  through  having  the  ocean  being  healthy  that  we  can  remain  healthy  ourselves. thank  you  very  much.</s>\n",
      "it can be a very complicated thing, the ocean. and it can be a very complicated thing, what human health is. and bringing those two together might seem a very daunting task, but what i'm going to try to say is that even in that complexity, there's some simple themes that i think, if we understand, we can really move forward. and those simple themes aren't really themes about the complex science of what's going on, but things that we all pretty well know. and i'm going to start with this one, if momma ain't happy, ain't nobody happy. we know that, right? we've experienced that. and if we just take that and we build from there, then we can go to the next step, which is that if the ocean ain't happy, ain't nobody happy. that's the theme of my talk. and we're making the ocean pretty unhappy in a lot of different ways. this is a shot of cannery row in 1932. cannery row, at the time, had the biggest industrial canning operation on the west coast. we piled enormous amounts of pollution into the air and into the water. rolf bolin, who was a professor at the hopkin's marine station where i work, wrote in the 1940s that,the fumes from the scum floating on the inlets of the bay were so bad they turned lead based paints black, people working in these canneries could barely stay there all day because of the smell, but you know what they came out saying? they say,you know what you smell? you smell money, that pollution was money to that community, and those people dealt with the pollution and absorbed it into their skin and into their bodies because they needed the money. we made the ocean unhappy. we made people very unhappy, and we made them unhealthy. the connection between ocean health and human health is actually based upon another couple simple adages, and i want to call that,pinch a minnow, hurt a whale, the pyramid of ocean life now, when an ecologist looks at the ocean, i have to tell you, we look at the ocean in a very different way, and we see different things than when a regular person looks at the ocean because when an ecologist looks at the ocean, we see all those interconnections. we see the base of the food chain, the plankton, the small things, and we see how those animals are food to animals in the middle of the pyramid, and on so up this diagram. and that flow, that flow of life, from the very base up to the very top, is the flow that ecologists see. and that's what we're trying to preserve when we say,save the ocean. heal the ocean, it's that pyramid. now why does that matter for human health? because when we jam things in the bottom of that pyramid that shouldn't be there, some very frightening things happen. pollutants, some pollutants have been created by us, molecules like pcbs that can't be broken down by our bodies. and they go in the base of that pyramid, and they drift up. they're passed up that way, on to predators and on to the top predators, and in so doing, they accumulate. now, to bring that home, i thought i'd invent a little game. we don't really have to play it. we can just think about it here. it's the styrofoam and chocolate game. imagine that when we got on this boat, we were all given two styrofoam peanuts. can't do much with them, put them in your pocket. suppose the rules are, every time you offer somebody a drink, you give them the drink, and you give them your styrofoam peanuts too. what'll happen is that the styrofoam peanuts will start moving through our society here, and they will accumulate in the drunkest, stingiest people. there's no mechanism in this game for them to go anywhere but into a bigger and bigger pile of indigestible styrofoam peanuts. and that's exactly what happens with pdbs in this food pyramid, they accumulate into the top of it. now suppose, instead of styrofoam peanuts, we take these lovely little chocolates that we get and we had those instead. well, some of us would be eating those chocolates instead of passing them around, and instead of accumulating, they will just pass into our group here and not accumulate in any one group because they're absorbed by us. and that's the difference between a pcb and, say, something natural like an omega-3, something we want out of the marine food chain. pcbs accumulate. we have great examples of that, unfortunately. pcbs accumulate in dolphins in sarasota bay, in texas, in north carolina. they get into the food chain. the dolphins eat the fish that have pcbs from the plankton, and those pcbs, being fat soluble, accumulate in these dolphins. now, a dolphin, mother dolphin, any dolphin, there's only one way that a pcb can get out of a dolphin. and what's that? in mother's milk. here's a diagram of the pcb load of dolphins in sarasota bay. adult males, a huge load. juveniles, a huge load. females after their first calf is already weaned, a lower load. those females, they're not trying to. those females are passing the pcbs in the fat of their own mother's milk into their offspring, and their offspring don't survive. the death rate in these dolphins, for the first calf born of every female dolphin, is 60 to 80 percent. these mothers pump their first offspring full of this pollutant, and most of them die. now, the mother then can go and reproduce, but what a terrible price to pay for the accumulation of this pollutant in these animals, the death of the first born calf. there's another top predator in the ocean, it turns out. that top predator, of course, is us. and we also are eating meat that comes from some of these same places. this is whale meat that i photographed in a grocery store in tokyo, or is it? in fact, what we did a few years ago was learn how to smuggle a molecular biology lab into tokyo and use it to genetically test the dna out of whale meat samples and identify what they really were. and some of those whale meat samples were whale meat. some of them were illegal whale meat, by the way. that's another story. but some of them were not whale meat at all. even though they were labeled whale meat, they were dolphin meat. some of them were dolphin liver. some of them were dolphin blubber. and those dolphin parts had a huge load of pcbs, dioxins and heavy metals. and that huge load was passing into the people that ate this meat. it turns out that a lot of dolphins are being sold as meat in the whale meat market around the world. that's a tragedy for those populations, but it's also a tragedy for the people eating them because they don't know that that's toxic meat. we had these data a few years ago. i remember sitting at my desk being about the only person in the world who knew that whale meat being sold in these markets was really dolphin meat, and it was toxic. it had two to three to-400 times the toxic loads ever allowed by the epa. and i remember there sitting at my desk thinking,well, i know this. this is a great scientific discovery, but it was so awful. and for the very first time in my scientific career, i broke scientific protocol, which is that you take the data and publish them in scientific journals and then begin to talk about them. we sent a very polite letter to the minister of health in japan and simply pointed out that this is an intolerable situation, not for us, but for the people of japan because mothers who may be breastfeeding, who may have young children, would be buying something that they thought was healthy, but it was really toxic. that led to a whole series of other campaigns in japan, and i'm really proud to say that at this point, it's very difficult to buy anything in japan that's labeled incorrectly, even though they're still selling whale meat, which i believe they shouldn't. but at least it's labeled correctly, and you're no longer going to be buying toxic dolphin meat instead. it isn't just there that this happens, but in a natural diet of some communities in the canadian arctic and in the united states and in the european arctic, a natural diet of seals and whales leads to an accumulation of pcbs that have gathered up from all parts of the world and ended up in these women. these women have toxic breast milk. they cannot feed their offspring, their children, their breast milk because of the accumulation of these toxins in their food chain, in their part of the world's ocean pyramid. that means their immune systems are compromised. it means that their children's development can be compromised. and the world's attention on this over the last decade has reduced the problem for these women, not by changing the pyramid, but by changing what they particularly eat out of it. we've taken them out of their natural pyramid in order to solve this problem. that's a good thing for this particular acute problem, but it does nothing to solve the pyramid problem. there's other ways of breaking the pyramid. the pyramid, if we jam things in the bottom, can get backed up like a sewer line that's clogged. and if we jam nutrients, sewage, fertilizer in the base of that food pyramid, it can back up all through it. we end up with things we've heard about before, red tides, for example, which are blooms of toxic algae floating through the oceans causing neurological damage. we can also see blooms of bacteria, blooms of viruses in the ocean. these are two shots of a red tide coming on shore here and a bacteria in the genus vibrio, which includes the genus that has cholera in it. how many people have seen a,beach closed, sign? why does that happen? it happens because we have jammed so much into the base of the natural ocean pyramid that these bacteria clog it up and overfill onto our beaches. often what jams us up is sewage. now how many of you have ever gone to a state park or a national park where you had a big sign at the front saying,closed because human sewage is so far over this park that you can't use it,? not very often. we wouldn't tolerate that. we wouldn't tolerate our parks being swamped by human sewage, but beaches are closed a lot in our country. they're closed more and more and more all around the world for the same reason, and i believe we shouldn't tolerate that either. it's not just a question of cleanliness. it's also a question of how those organisms then turn into human disease. these vibrios, these bacteria, can actually infect people. they can go into your skin and create skin infections. this is a graph from noaa's ocean and human health initiative, showing the rise of the infections by vibrio in people over the last few years. surfers, for example, know this incredibly. and if you can see on some surfing sites, in fact, not only do you see what the waves are like or what the weather's like, but on some surf rider sites, you see a little flashing poo alert. that means that the beach might have great waves, but it's a dangerous place for surfers to be because they can carry with them, even after a great day of surfing, this legacy of an infection that might take a very long time to solve. some of these infections are actually carrying antibiotic resistance genes now, and that makes them even more difficult. these same infections create harmful algal blooms. those blooms are generating other kinds of chemicals. this is just a simple list of some of the types of poisons that come out of these harmful algal blooms, shellfish poisoning,fish ciguatera, diarrheic shellfish poisoning, you don't want to know about that, neurotoxic shellfish poisoning, paralytic shellfish poisoning. these are things that are getting into our food chain because of these blooms. rita calwell very famously traced a very interesting story of cholera into human communities, brought there, not by a normal human vector, but by a marine vector, this copepod. copepods are small crustaceans. they're a tiny fraction of an inch long, and they can carry on their little legs some of the cholera bacteria that then leads to human disease. that has sparked cholera epidemics in ports along the world and has led to increased concentration on trying to make sure shipping doesn't move these vectors of cholera around the world. so what do you do? we have major problems in disrupted ecosystem flow that the pyramid may not be working so well, that the flow from the base up into it is being blocked and clogged. what do you do when you have this sort of disrupted flow? well, there's a bunch of things you could do. you could call joe the plumber, for example. and he could come in and fix the flow. but in fact, if you look around the world, not only are there hope spots for where we may be able to fix problems, there have been places where problems have been fixed, where people have come to grips with these issues and begun to turn them around. monterey is one of those. i started out showing how much we had distressed the monterey bay ecosystem with pollution and the canning industry and all of the attendant problems. in 1932, that's the picture. in 2009, the picture is dramatically different. the canneries are gone. the pollution has abated. but there's a greater sense here that what the individual communities need is working ecosystems. they need a functioning pyramid from the base all the way to the top. and that pyramid in monterey, right now, because of the efforts of a lot of different people, is functioning better than it's ever functioned for the last 150 years. it didn't happen accidentally. it happened because many people put their time and effort and their pioneering spirit into this. on the left there, julia platt, the mayor of my little hometown in pacific grove. at 74 years old, became mayor because something had to be done to protect the ocean. in 1931, she produced california's first community based marine protected area, right next to the biggest polluting cannery, because julia knew that when the canneries eventually were gone, the ocean needed a place to grow from, that the ocean needed a place to spark a seed, and she wanted to provide that seed. other people, like david packard and julie packard, who were instrumental in producing the monterey bay aquarium to lock into people's notion that the ocean and the health of the ocean ecosystem were just as important to the economy of this area as eating the ecosystem would be. that change in thinking has led to a dramatic shift, not only in the fortunes of monterey bay, but other places around the world. well, i want to leave you with the thought that what we're really trying to do here is protect this ocean pyramid, and that ocean pyramid connects to our own pyramid of life. it's an ocean planet, and we think of ourselves as a terrestrial species, but the pyramid of life in the ocean and our own lives on land are intricately connected. and it's only through having the ocean being healthy that we can remain healthy ourselves. thank you very much.\n"
     ]
    }
   ],
   "metadata": {}
  },
  {
   "cell_type": "code",
   "execution_count": null,
   "source": [],
   "outputs": [],
   "metadata": {}
  }
 ],
 "metadata": {
  "kernelspec": {
   "name": "python3",
   "display_name": "Python 3.9.7 64-bit"
  },
  "language_info": {
   "codemirror_mode": {
    "name": "ipython",
    "version": 3
   },
   "file_extension": ".py",
   "mimetype": "text/x-python",
   "name": "python",
   "nbconvert_exporter": "python",
   "pygments_lexer": "ipython3",
   "version": "3.9.7"
  },
  "interpreter": {
   "hash": "31f2aee4e71d21fbe5cf8b01ff0e069b9275f58929596ceb00d14d90e3e16cd6"
  }
 },
 "nbformat": 4,
 "nbformat_minor": 4
}