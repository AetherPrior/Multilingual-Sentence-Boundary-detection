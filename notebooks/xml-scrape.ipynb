{
 "cells": [
  {
   "cell_type": "code",
   "execution_count": 1,
   "source": [
    "from bs4 import BeautifulSoup\n",
    "import re\n",
    "import numpy as np\n",
    "import os\n",
    "from tqdm.notebook import tqdm\n",
    "import malaya"
   ],
   "outputs": [
    {
     "output_type": "stream",
     "name": "stderr",
     "text": [
      "2021-10-09 11:26:38.926044: W tensorflow/stream_executor/platform/default/dso_loader.cc:64] Could not load dynamic library 'libcudart.so.11.0'; dlerror: libcudart.so.11.0: cannot open shared object file: No such file or directory\n",
      "2021-10-09 11:26:38.926143: I tensorflow/stream_executor/cuda/cudart_stub.cc:29] Ignore above cudart dlerror if you do not have a GPU set up on your machine.\n",
      "/home/l12-o-0-554/Documents/virtualenvs/mPunct/lib/python3.9/site-packages/malaya_boilerplate/frozen_graph.py:24: UserWarning: Cannot import beam_search_ops from Tensorflow Addons, `deep_model` for stemmer will not available to use, make sure Tensorflow Addons version >= 0.12.0\n",
      "  warnings.warn(\n"
     ]
    }
   ],
   "metadata": {}
  },
  {
   "cell_type": "code",
   "execution_count": 17,
   "source": [
    "#corrector = malaya.spell.probability()\n",
    "normalizer = malaya.normalize.normalizer(date=False,time=False)"
   ],
   "outputs": [],
   "metadata": {}
  },
  {
   "cell_type": "code",
   "execution_count": 22,
   "source": [
    "def clean_text(text):\n",
    "    text = text.replace('!', '.')\n",
    "    text = text.replace(':', ',')\n",
    "    text = text.replace('--', ',')\n",
    "    \n",
    "    #reg = \"(?<=[a-zA-Z])-(?=[a-zA-Z]{2,})\"  ## comment this out please! no replacing '-'s for malay\n",
    "    #r = re.compile(reg, re.DOTALL)\n",
    "    #text = r.sub(' ', text)\n",
    "    text = re.sub(r'\\[.+?\\]','',text)\n",
    "    text = re.sub(r'( -| - |- )','',text)\n",
    "    text = re.sub(r'(?<=[a-zA-Z])\\.(?=[a-zA-Z])','. ',text)\n",
    "    text = re.sub(r'(?<=[a-zA-Z])\\?(?=[a-zA-Z])','? ',text)\n",
    "    text = re.sub(r'(?<=[a-zA-Z])\\,(?=[a-zA-Z])',', ',text)\n",
    "#     text = text.replace('-', ',')\n",
    "    text = text.replace(';', '.')    # replace symbols with the most relevant counterparts\n",
    "    text = text.replace(' ,', ',')\n",
    "    text = text.replace('♫', '')\n",
    "    text = text.replace('♪ ♪',',')\n",
    "    text = text.replace('♪','')\n",
    "    text = text.replace('...', '')\n",
    "    text = text.replace(r'.\\s*\\\"', ',')\n",
    "    text = text.replace(r',\\s*\"',', ')\n",
    "    text = text.replace(r'\"', ',')\n",
    "\n",
    "    text = re.sub(r'--\\s?--', '', text) # replace --   -- to ''\n",
    "    text = re.sub(r'\\s+', ' ', text)    # replace all extra whitespaces\n",
    "    text = re.sub(r'[⁰¹²³⁴⁵⁶⁷⁸⁹]',\"\",text)\n",
    "    \n",
    "    text = re.sub(r',\\s?,', ',', text)  # merge commas separating only whitespace\n",
    "    text = re.sub(r',\\s?\\.', '.', text) # , . -> ,\n",
    "    text = re.sub(r'(?<=[a-zA-Z0-9]),(?=[a-zA-Z0-9])',', ',text) # say,you -> say, you\n",
    "    text = re.sub(r'\\?\\s?\\.', '?', text)# ? . -> ?\n",
    "    text = re.sub(r'\\s+', ' ', text)    # strip all redundant whitespace that could have been caused by preprocessing\n",
    "    \n",
    "    text = re.sub(r'\\s+\\?', '?', text)\n",
    "    text = re.sub(r'\\s+,', ',', text)\n",
    "    text = re.sub(r'\\.[\\s+\\.]+', '. ', text)\n",
    "    text = re.sub(r'\\s+\\.', '.', text)\n",
    "    text2 = text\n",
    "    try:\n",
    "        text = normalizer.normalize(text, normalize_entity=False, normalize_url=True)['normalize']\n",
    "    except Exception:\n",
    "        print(\"Exception at:\" ,text)\n",
    "        text = text2\n",
    "    return text.strip().lower()"
   ],
   "outputs": [],
   "metadata": {}
  },
  {
   "cell_type": "code",
   "execution_count": 23,
   "source": [
    "dataset_dir = \"../dataset/malay-dataset/local-movies-subtitle\"\n",
    "subtitle_text_list = []\n",
    "file_list = []\n",
    "for dirpath,subdirs,files in os.walk(dataset_dir):\n",
    "    for f in files:\n",
    "        if \"ms\" in f:\n",
    "            file_list.append(os.path.join(dirpath,f))\n",
    "\n",
    "for file in tqdm(file_list): \n",
    "    subfile = open(file,'rb')\n",
    "    lines = subfile.read()\n",
    "    xml = BeautifulSoup(lines,'lxml-xml')\n",
    "    subtitle_content = xml.find_all('p')\n",
    "    subtitle_text = \"\"\n",
    "    for sub in subtitle_content:\n",
    "        subtitle_text = subtitle_text+\" \"+clean_text(sub.getText())\n",
    "    #subtitle_text = clean_text(subtitle_text[1:])\n",
    "    subtitle_text_list.append(subtitle_text)\n",
    "\n",
    "\n",
    "lines = []\n",
    "with open('../dataset/malay-dataset/dumping-iium.txt','r') as f:\n",
    "    lines = f.readlines()\n",
    "    i = 0\n",
    "    prev = 0\n",
    "    len_sentence = 0\n",
    "    with tqdm(total=len(lines)) as pbar:\n",
    "        while i < len(lines):\n",
    "            prev = i\n",
    "            while len_sentence <= 512 and i < len(lines):\n",
    "                len_sentence += len(lines[i].split())\n",
    "                i+=1\n",
    "                pbar.update(1)\n",
    "            len_sentence = 0\n",
    "            stri = clean_text(\" \".join(lines[prev:i]))\n",
    "            subtitle_text_list.append(stri)\n",
    "\n",
    "import random\n",
    "random.shuffle(subtitle_text_list)\n",
    "\n",
    "\n",
    "#subtitle_text_list.extend(lines)\n",
    "    "
   ],
   "outputs": [
    {
     "output_type": "display_data",
     "data": {
      "application/vnd.jupyter.widget-view+json": {
       "version_major": 2,
       "version_minor": 0,
       "model_id": "7ac0cc6992414c26b8f77a6641673c8f"
      },
      "text/plain": [
       "  0%|          | 0/38 [00:00<?, ?it/s]"
      ]
     },
     "metadata": {}
    },
    {
     "output_type": "display_data",
     "data": {
      "application/vnd.jupyter.widget-view+json": {
       "version_major": 2,
       "version_minor": 0,
       "model_id": "b9e2d0874f1f4388baed6b3b3bb5eab7"
      },
      "text/plain": [
       "  0%|          | 0/1139838 [00:00<?, ?it/s]"
      ]
     },
     "metadata": {}
    },
    {
     "output_type": "stream",
     "name": "stdout",
     "text": [
      "Exception at: I pray for your health, I pray that Allah will ease your journey, and lastly, I pray for you and yours. p/s, please doakan Nur sekali, moga tabah dan kuat, dan moga digantikan dengan yang lebih baik. Hello, thank you admin kalau my article disiarkan. I am so excited to share my experience buying my first house at age of 24 y/o without any guide from anyone. I am lone ranger in this matter. Nasib baik everything going smooth till the end, huhu. Let me share my own experience and the process how i buy it. First of all, I beli Rumawip Kuchaimas (RM198K), itu je harga rumah yang i mampu beli. Kalau diikutkan i nak je beli rumah yang RM300K sebab ada banyak facilities, tapi apakan daya, ukur baju di badan sendiri. But i am so glad i boleh beli rumah dekat area KL, i ingat dah takde harapan nak beli rumah dekat KL sebab semua harga rumah mampu tengok bukan mampu beli. Alhamdulillah, nasib baik ada Rumawip ni, dapat lah juga merasa beli ruma yg affordable dkt area KL. Sedikit info why i choose Kuchaimas is, nearby Bangsar (my current work location), Midvalley, Old Klang Road and not far from KL City. 1) Ok, mula2 you kene daftar dahulu akaun dalam website. kwp. gov. my/. Sebelum anda memohon untuk membeli rumah RUMAWIP, pastikan anda layak untuk memohon. 2) Kemudian bila dah daftar dan pilih rumah mana yang korang nak beli, korang kene sediakan dokumen yang lengkap (sila check website RUMAWIP). Ada 2 cara untuk submit dokumen, i) Submit dokumen dekat DBKL Complete dokumen boleh diserahkan ke pejabat DBKL sama ada through post ataupun walk in. Urusetia RUMAWIP DBKL Anjung RUMAWIP DBKL, Aras G, Menara DBKL 1, Jalan Raja Laut, 50350 Kuala Lumpur No. tel, 032617 9925 Pros *Tak perlu sediakan duit booking. Cons *Proses permohonan terlalu lama, i ade dengar org yg dah submit dokumen dkt DBKL office dekat setahun memohon tapi status permohonan masih di dalam proses. ii) Submit dokumen dekat PEMAJU (Ok yg ni i punya pengalaman ye. Utk lebih info boleh rujuk developer. Pemaju untuk projek Kuchaimas ni ialah Aset Kayamas) Walk in ke pejabat developer bersama dokumen permohonan yg lengkap dan wajib sediakan duit RM15K sebagai booking semasa menghantar dokumen permohonan (RM15K ni ialah sebahagian daripada duit deposit 10% harga rumah. Jika permohonan anda berjaya, anda kene settle balance 10% deposit tu semasa cabut undi unit. Tetapi jika permohonan anda tidak berjaya, jgn risau duit akan akan dipulangkan) Untuk bayar booking RM15K tu, jgn bayar cash ye, anda kene sediakan check bank draft atas nama pemaju. Pros *Proses permohonan cepat. Hanya mengambil masa 1-3 bulan sahaja untuk tahu status permohonan lulus atau tidak. *Confirm dah ade unit di situ sebab dah bayar booking as a serious buyer. Cons *Kene sediakan duit booking RM15K. huhu 3) Cabut Undi i) Jika permohonan anda lulus, anda akan dipanggil untuk mencabut undi unit. Selepas dah cabut undi unit, anda kene settlekan duit balance keseluruhan 10% deposit dari harga rumah. So jgn lupa sediakan check bank draft ye sebelum dtg cabut undi unit tu. \n",
      "Exception at: Kepada bro2, if kau mampu sediakan rumah utk famili sndiri, tolong lar buat. Salam ramadhan. Laju sahaja tangan ini menekan, kepala menggoreng idea untuk dikeluarkan, oh tak cantik, tekan lagi. Emm, lagi… Barulah puas hati. Lihat gambar diri sendiri, sayang sekali fikirannya cuma, Hah, untuk dikongsi. Nafsu nya cuma satu, LIKE. Hatinya sakit, kepala mula ligat memikirkan bagaimana nak goreng ayat. Ayat ini aku harus betul, dia kena SALAH. Sebab AKU betul, dia SALAH. Hah, untuk dibaca orang. Kerana yang sakit hati itu cuma dirinya sorang, orang lain tidak pula berpenyakit HATI seperti itu. Kepala ini sudah cukup hebat, butir2 perkataan hebat harus dikongsi. Sayangnya, yang hebat itu dari kepala sendiri, bukan kepala yang boleh dipercayai. Kau tidak menyaksikan bukan? Jadi Kau…. em Bukanlah saksi. Jadi Kau tidak layak menjadi HAKIM, untuk mengkritik insan lain. MENGHAKIMI itu bukan MENASIHATI. Jadi jangan la jadi insan yang pakar IT tapi buta Hati. Pantang disua nikmat Allah, diri mula gian menayang. pantang disua ujian Allah, diri pantas mengharap ehsan. Pantang kesabaran teruji, dicanang terus sesuka hati. Wujudkanlah batas antara nafsu dan IT lagi-lagi di bulan puasa ni saudara saudari. Malulah dengan diri sendiri. Malu juga dengan saudara yang lain. Bukan sehari berpuluh new post, tapi apa isinya? Assalamualaikum semua. Selamat berpuasa. Disini saya ingin berkongsikan sebuah pengalaman yang berlaku pada 10/06/2016 waktu. Sebelum itu, saya ialah orang yang pada prinsipnya menolak perkauman dan penindasan. Dan tolong jangan kaitkan cerita ini dengan perkauman. Ceritanya disini ialah tentang agama yang dengan mudahnya dijual beli. Saya berjumpa dengan Balakrishnan A/L Subramaniam di surau KLCC. Dia datang kepada saya dengan keadaan sedih dan gusar kerana baru sahaja kehilangan wang tunai, dompet dan IC. Dia menunjukkan laporan polis yang telah dibuatnya di IPD Dang Wangi. Dia bercerita bahawa saudara seagama dia telah memaki dia, menghina dia kerana tiada wang untuk membayar hotelnya, walaupun dia berjanji akan membayarnya setelah membuat kad bank nantinya. Dia juga baru sahaja diberhentikan kerja, dan ingin mencari kerja baru di KL. Ditengah kerisauan, dia bercerita yang dia berdoa ke Allah utk diberi pertolongan. Bagi saya, amat zalim kalau wang ringgit merupakan sebab seseorang merasa Allah tidak wujud, saya pun berkata akan menolongnya. Selepas saya solat dia nyatakan keinginan memeluk agama islam. Saya berkata, memeluk agama islam harus dengan kerelaan hati. Lalu dia mengucap kalimah syahadah. Saya yang berasa kasihan lalu menolongnya dengan sejumlah wang yang pada saya amat banyak, yang akan digunakan utk sebahagian daripada hantaran perkahwinan saya. Dia berjanji akan membayar balik, selepas semua urusan selesai. Tetapi malang, setelah diberi kepercayaan. Dia tidak mengotakan janjinya, macam2 pengharapan dia beri, antara lain telah deposit cheque, telah bank in. Namun itu semua hanya pembohongan. Sebelum ini memang semua orang saya akan tolong tak kira keadaan. Sekarang ni, memang saya serik nak menolong orang macam ni. Saya bertekad,kalau dah susah tu usaha sendiri, takkan ada orang lain akan tolong. Kecuali untuk keluarga, itu pengecualian. Tahniah kepada lelaki bernama BALAKRISHNAN RAMASAMY (IC, 8406100865xx), anda telah mengubah persepsi saya terhadap dunia. Tahniah telah memeluk agama islam, saya harap anda diberi hidayah. Jangan mempermainkan kalimah syahadah hanya kerana wang ringgit. Kalimah syahadah tiada ternilai harganya. \n",
      "Exception at: Aku luahkan kekecewaan aku padanya. Aku nak berpisah. Dia kata pada aku, berikanlah dia peluang. Dia sedang belajar sembahyang, belajar mengaji. Aku taknak dengar lagi penjelasan dia. Aku lafazkan talak malam itu jugak. Sepanjang tempoh eiddah, dia jaga makan minum aku seperti biasa. Waktu tempoh itu hampir tamat, dia datang pada aku dan bertanya. adakah aku masih tidak sudi menjaga dan mendidik dia. Aku tak boleh terima yang dia, selama 25 tahun hidup, tidak pernah sembahyang atau mengaji, umur 25 baru nak belajar. Aku cuba hubungi dia selepas setahun kami bercerai. Setahun aku ambil masa untuk sedar bodoh nya aku meninggalkan dia, wanita yang sedang mencari semula agamanya. Waktu itu jugalah aku cuba hubungi dia tapi tak berjaya. Dia dah berhenti kerja tempat lama, dah pindah dari rumah sewanya. Tak cukup kekuatan aku untuk pergi ke rumah bekas mentua, sebab aku tahu macam mana aku layan anak perempuan mereka selepas gadis itu mereka amanahkan pada aku. tak apalah, mungkin memang jodoh kami sampai hari tu je. Dah masuk 3 tahun kami bercerai. Fikiran aku dah boleh lupakan bayang-bayang dia. Tapi tangan aku gatal search nama dia di FB. Tak berharap pun masa tu tapi, tiba-tiba memang ada di search result. Aku stalk janda aku. Aku dah gila talak ke. Korang nak belajar saving 'online' tak kat akaun maybank sendiri? Maknenyerr… hujung bulan, tak payah lagi, nak cucuk keluarkan duit masukkan balik kat tabung simen, sealed keluli lak. Dan dah tak perlu susah susah lagi, duit gaji akaun maybank tu transfer ke akaun lain…. Sebab Maybank ada perkenalkan i-saving uollss. Boleh pilih yg shariah compliant. Kat dalam tu, kira mcm folder laa, leh simpan dalam folder saving tu. Namanya i-saving. Nak belajar tak uollz? Nanti dapat PTPTN or JPA tu boleh asingkan yerr masuk saving siap-siap. Nanti kawan mesti tanyerr, waahh, JPA da masokkk, lajerr la ittew, Cakap jerr, aku saving tooqq, saving nak kahwin nanti, lanjerr goreng pisang boleh laarr, lanjer jgk kan. hihihi, *if matlamat korang nak saving, nak kahwin la. if nak saving lg power tahap ASB, g tanya sifu Hanafi Hamin Saving tu penting. sebab ia bkn pasal duit sebenarnya, tapi pasal disiplin menyimpan. Nak latih tak boros duit PTPTN a. k. a duit pinjaman di awal sem. Yang da kerja pon tersangat okay, sambil-sambil bayar kereta, bil api air, internet, semua. sambil tu transfer online sekali ke saving. lepas ni tak derr simpan kat tabung A, tabung B, tabung C, sampai tabung F. Korang boleh apply kat Maybank2u online jerr. Gambar ni membantu. Gambar tutorial >>. facebook. com/story. story_fbid=10206183032200965&id=1418962070 Add sy, Ubaidullah Jaafar Kat situ ada 3 step jerr guna maybank2u. P/s, kalau rasa bermanfaat untuk kawan kawan lain, tak nak gaji macam air, tak nak duit ptptn deras macam sungai mohon SHARE. Biar belajar saving sikit. Alim yg sis maksudkan tu senang citer yg nampak baikkan? Tp couple. Habistu mmg xbaik terus ke couple? Baguslah kalau sis pegang istilah ikhtilat yg tarbiahsentap guna. Bercakap dgn ajnabi bila perlu waktu ada urusan atau kecemasan la contohnye. fikir tentang ajnabi, zina hati. Tu istilah strict yg org2 gini gunalah. Tp ada org guna context zina hati tu kalau fikir yg bernafsu fikir yg xeloklah senang citer. \n",
      "Exception at: Some of them ada yang jarang gila pakai. Baju kurung cotton dan jubah cotton. Sy nak buang syg sebab masih elok lagi. Nak bg kat orang taktau nak bagi kat sape. Size baju tu sesuai untuk orang size S dan M. So sesiapa rasa sudi nak ambil, boleh direct whatsapp sy. Nak bagi free tau tak kenakan bayaran pun. Utamakan students uia sebab sng nak pass baju. Bukan uia pun boleh takde masalah. Kepada yang berminat, whatsapp no 014 268 6989. Terima kasih. Si Pemalas Sorry takde intro yang proper. Aku just nak tanya camne nak buang rasa malas dalam diri aku ni. Aku student medic sebenarnya. Orang lain nampak aku macam rajin kat dalam ward macam bijak tapi dorang tak tahu kebenarannya. Dan aku memang sangat stress dengan diri sendiri. Aku buka je buku dah niat nak baca tapi end up aku buat benda lain. Kau faham tak betapa stress nya aku. Aku fikir2 tak layak aku jadi student melihatkan tahap pemalas aku ni. Aku dah fikir dah mama abah kalau aku rasa malas study. Dah betulkan niat. Try ikhlaskan hati. Dah macam2 doa kata2 motivasi aku baca still sama je. Ke sebab aku banyak dosa sangat eh. Mungkin ilmu terhijab daripada masuk ke dalam qalbu aku. Tolong aku geng. Dengan nak exam lagi. Banyak lagi tak study. Tapi sempat pulak aku menaip kat confession korang ni. Tolong doakan aku sekali. Nak jadi doctor ummah. Terima kasih semua. Aku harap aku tak tersangkut untuk habiskan mbbs ni. mak aku bukan kuli Slm admin. Slm warga iium confession. Ye cerita psl mak aku bukan mak korang. Aku nak taip ni pun aku rasa sebak. entah kenapa tah. kalau isu berkait dgn family mmg aku cepat sikit touching. tu org ckp aku ni jenis family person. Mak aku orang kampung. Ye mak aku ni jenis kampung sangat. walaupun duk kat tmpt yg dh maju skrg. Even mak aku kekampungan, aku x malu nak mengaku mak. Mak aku lah aku rasa orang paling tabah dalam dunia yg pernah aku kenal. Mak lahir dlm keluarga yg ramai, susah pulak tu. Mak anak bongsu. Mak x belajar tinggi pun. cukup spm, pastu kahwin. Mak aku cantik. Kulit putih, lemah lembut and sopan. Tak, bukan aku nak cakap ape, mak aku berdarah cina, jd boleh imagine kan. Mak kahwin awal. yelah habih spm mak kawin. then dapat aku. aku anak sulung keluarga and in fact, aku anak manja even aku sulung. Dah lama aku pendam ni, ikut hati aku nak je luah smua tp kang jenuh nak naipnya pun. Macam aku cakap, mak anak bongsu, dan mak kawin awal. Aku kesian tgk mak aku. Dr jd anak manja dlm keluarga terus kena tgl ngn mertua. Ayah aku bukan anak sulung mahupun bongsu mahupun anak laki tunggal. Sejak kecik aku perhatikan mak. Dulu mungkin aku takpaham tp skrg bila dh dewasa aku xtahan. Atok aku tegas. Sangat tegas. Tp aku ni kira cucu kesayangan dia. Ape aku nak mesti dapat. Dulu kitorang okay je. entah kenapa bila dah besar berubah. tak, bukan psl aku tp psl hubungan mak dgn sedara yg lain. \n",
      "Exception at: aku pun rasa segan nak ambik. bayangkan org yg bg pinjam, segan nk terima duit byrn balik. Bagi aku, lepas2 ni kau jauh2 kan la diri dari org mcm tu. kalau nak makan, cakap je. tapi hormati la makanan org lain dan privasi org lain. kalau adik beradik kau lain la cite. Insan yg pernah terkena. jgn makan je makanan org lain. Bagi mereka yang mengidap penyakit cancer, tidak kira lah sama ada cancer darah, cancer rahim, cancer lender, cancer payudara, cancer paru-paru, cancer usus, cancer hati. Datanglah berjumpa Ayah Chik. Dengan izin Allah, sel-sel kanser akan mati di tangan Ayah Chik dan tidak akan merebak lagi, biizniLLAH. Bagi mereka yang mengidap penyakit jantung pula, sama ada, jantung tersumbat, lemah jantung, akan by pass, stage 4. insyaAllah, Ayah Chik akan sembuhkan kembali sakit jantung tersebut. Pesakit akan diminta untuk menarik nafas dan merasai sendiri perubahan setelah menerima rawatan. Jika masih semput dan sakit, Ayah Chik akan berikhtiar sehingga pernafasan pesakit lancar. Begitu juga dengan pesakit stroke, angin ahmar, gout, sakit lutut, prostat, buah pinggang, kencing manis, darah tinggi, kebas-kebas bahagian tangan dan kaki, athma. Dengan keizinan daripada Allah, Ayah Chik mampu untuk menyembuhkan penyakit-penyakit berkenaan.,Semua penyakit ada ubatnya melainkan Mati, *** Datanglah. Dia tak ambik bayaran satu sen pun. Terpulang pada pesakit nak bagi ikhlas banyak mana. Dia tak kisah. Yang penting pesakit sembuh. InsyaAllah, pada 1, 2, dan 3 JANUARI 2016, Ayah Chik akan berada di, NO. 19, TAMAN JASA, SUNGAI TUA, BATU CAVES, SELANGOR (Rumah Cikgu Shamsuddin) Ayah Chik, 012 938 3776 Ayah Ngah, 011 2061 5587 Cg. dear aikolians. korang rasa kalau akak nk jual semua koleksi buku teks dari year1 sampai final, lengkap dgn notes, exam paper etc, nk letak brp rm. bukan taknak sedekah, tapi perlukan duit sgt2. Bermula cerita ni ok rasaa mmng tk ptut aku cerita hal keluarga ni tapi aku rasa cukup lama da aku pendam ni semua. Ayah aku adalah seorang pemalas tknk brkerja tk dihiraukan mkanan ad ke tk at uma ibu aku yg brkerja dia sedap dduk rumah tido bila gaji mula la bt baik at ibu aku bila gaji ibu aku hbiskn utk brang dpur dan lau ad bal ayah aku mtk utk beli nombor ekor? Meyakitkan hati btul da tk kejaa main nombor ekor lak tu. Dan selepas dia brkerja dpat gaji bkunnya dia beli perbelanjaan kami tapi dia belikn perempuan simpanan dia baju? Kami dia tk hiraukn pun pkai baju buruk2 ke koyak ke. Dan ibu aku mengambil keputusan utk brcerai jlan yg trbaik. So dorang brcerai dan ayah aku tlah brjnji nak bagi nafkah rm400 sebulan tapi selepas tu dia menghilangkn dri the2 thu dia da kwen br dgan perempuan indon nafkah tanggungjawab semua tu mana tu yg digelar ayah ke? Pernah ibu aku meminta nafkah utk kami tapi thu dia cakap apa ibu aku kena tido 1malam dgan dia br dia bagi. Dia egt ibu aku apaa da cerai kn. Ya allah betul2 sentap dngar semua ni, dan aku mengambil keputusan utk berhenti sekolah dan brkerja di shopping mall berumur 13tahun dan bila ayah aku tahu aku brkerja dia nk pinjam duit utk hntar bini dia blek indon peh kau egt aku kerja ni utk bini kau sedap2 jep nafkah tk pena bagi lagi mtk aku duit. \n",
      "Exception at: Just want to remind in case you forget…. Salam semua, Alhamdulillah saya ditawarkan masuk ke IIUM course Bachelor of Human Science (English and Literature). February 2015 intake. Tapi parents nak saya buat TESL. Jadi nak mintk pertolongan brothers and sisters yg berpengalaman, macam mana cara saya nak tukar course ya once saya dah daftar nanti. Saya sgt2 perlukan pertolongan. Di sini saya sertakan no telefon(whatsapp) 0136350543. Assalamualaikum admin. Harap admin approve confession aku. Aku anak sulung, tunggal pmpuan & ada 5 orang adik lelaki. Lepas form 5, aku masuk matrikulasi n a year after that aku masuk U. Aku cuma akan balik kg 2-3x setahun sbb aku x nak menyusahkan parents beli tiket flight yg agk mahal. Disebabkan aku bljr jauh dr kluarga, aku x dpt nak monitor, guide adik2 aku. Aku rasa mcm akak yg x guna pon ada T~T Parents aku dua2 keja kerajaan, dan mak ak dah lama sakit misteri yg mnyebabkan kehilangan salah satu senses terpenting dlm hidup. Dah 19 tahun mak aku sakit. Somehow, ia bagi kesan dkat kami sekeluarga. Rumah aku bersepah & crowded dgn brg. X mcm rumah org lain. Adik2 lelaki aku semua pemalas. Malas belajar, malas solat, malas buat kerja rumah. Aku sedih. Tiap kali balik kg, aku sedih tgk keadaan rumah yg bersepah. Pastu mak aku boleh pulak salahkan aku, cakap aku pemalas x buat keja sedangkan aku bru je jejak kaki kt rumah tu. Aku dah berapa kali gaduh dengan mak sebab bila aku suruh adik2 lelaki aku buat keja, mak aku x bagi. Alasan mak aku, 'bukan diorng buat pon'. Tiap kali aku kemas rumah, seminggu lps tu dah bersepah balik. Adik2 aku semua buat hal sendiri. Terperap dalam bilik, main futsal, main game. Bukan nya tolong kemas rumah ke apa. Aku sedih dgn perangai adik2 aku camni. Sangat berbeza dengan ayah aku. Aku rasa aku x kan jumpa dah lelaki mcm ayah aku. Ayah aku pandai masak, buat kek, menjahit, berkebun, bertukang, baiki kereta & motor. Memang serba boleh. Tapi adk2 lelaki aku xde sorang pun yang mewarisi gen2 rajin ayah aku. Ayah aku sgt tegas tp tiap kali marah dkat adik2 aku sbb prngai diorng, mak aku akn backup adik2 aku. Ayah aku pon dah malas nak marah sbb nak elak dari gaduh dengan mak aku. Since aku dah habis study, tanam anggur kat rumah and tunggu posting skang, aku harap sgt dpt ubah perangai adik2 aku ni. Somehow aku rasa sangat bersalah sbb xde dgn adik2 aku masa diorng membesar. Almost 7 tahun aku study di negeri org, aku xde dgn adik2 aku. Aku sepatutnya guide, tolong & support diorang waktu diorng membesar. Aku harap aku x terlambat nak buat semua tu skng. Ak betul2 nak jd kakak yang baik buat adik2 aku. Aku nak jaga adik bongsu aku elok2. Tahun dpn dah naik form 2. Aku nak dia belajar rajin2, jd anak yang soleh buat mak ayah aku & jadi manusia yg berguna. Aku hrp dia x jadi pemalas mcm abg2 dia. Mohon readers doakan yang terbaik utk aku. Cepat kerja, dapat posting dekat dgn family so that aku boleh tlg mak ayah aku utk guide adik2 aku. \n",
      "Exception at: Semuanya bagaikan tak masuk dalam otak. Tak berkat mungkin. Aku dah berubah. Hubungan kami seakan menjadi. Sampailah aku tak tahu di mana silap aku sampai dia mendiamkan diri. Tapi setiap wasap aku dia masih membalas. Cuma aku rasa tawar di setiap kata-katanya. Sekali sekala aku masih menghubunginya. Dan masih aku yang memulakan setiap perbualan. Tapi hati aku masih ada padanya. Namun sesuatu menarik tangkai hatiku. Aku terbaca sesuatu, apabila kita terlalu menyandarkan sesuatu pengharapan kepada seseorang, Allah akan timpakan rasa kecewa kerana Allah cemburu hambanya yang mengharapkan sesuatu selain dariNya. Dan aku menangis. memang aku dah jauh dariNya. Aku selalu memikirnya sampaikan tiada waktu untuk aku mengingatiMu. Sedih aku bila aku. ingat waktu itu kembali. Aku harus melakukan sesuatu. Walaupun aku sudah tidak berhubung dengannya namun biarlah hubungan ini bertanda walaupun dengan nisan dan memori. Tadi aku text dia, aku cakap terima kasih atas segalanya dan bla2 tamat. Dan ayat balasnya,TERIMA KASIH BANYAK2. SEMOGA INDAH DAN DIRAHMATI JALAN AWAK MENEMUI ALLAH. Aku positifkan diri. Allah hantarkan dia mungkin untuk menguji aku. Rupanya aku masih jauh lagi dariNya. Memang aku sedih. Tapi sekurang-kurangnya aku tahu yang dia juga sedang siapkan diri untuk menemui Sang Pencipta. Semoga Allah pertemukan aku dan dia dengan insan yang terbaik untuk hidup masing-masing. Aku lebih bahagia sekarang. Yang pasti aku tahu yang ALLAH TAKKAN CEMBURU LAGI SEBAB CINTA AKU HANYA UNTUKNYA. Sape2 ade kawan2 yang kesempitan wang yang selalu makan biskut dan roti utk melapik perut yg kelaparan tapi xsampai hati nak pinjam duit kat kawan, minx tolong suruh dia mesej sy segera. insyaallah esok sy nk ke UIA, kita makan sama2, sy belanja. xdpt bagi yg mahal2 pun atleast dpt makan kenyang2 ok lah kan? Dpt 2 org pun jadilah, ramai2 nanti sy plk yg makan biskut dan roti. mesej je tau, 0133188743. Aku selalu bagi harapan pada diri sendiri satu hari nanti ayah aku sedar akan tanggungjawab dia pada anak2 tapi sampai sekarang harapan tu hanyalah harapan. mak aku dah tua tapi still kerja lagi sebab nak tanggung aku. aku ada sibblings tapi semua dah kahwin. tinggal aku sorang jek yg still study kt uia nie. sejak aku dan adik2 kat school, mak aku jek yg banyak tanggung. dari yuran sekolah sampailah persiapan raya. ayah aku buat tak tahu jek although dia kerja kerajaan. aku paling sedih sebab satu hari aku beranikan diri minta duit sebab duit aku memang tak cukup. dia suruh mak aku pula yg bagi duit. alasan dia takda modal padahal aku tau dia bukan tanggung apa2 pun. bil2 rumah semua mak aku bayar. mak aku kantoi menipu pasal bil2 tu sebab mak aku pernah gaduh dengan ayah aku pasal baki duit yg sepatutnya ayah aku kena pulangkan kt dia. kereta rosak, mak aku jugak yg bayar. aku dah tak sanggup tengok mak aku terbeban pasal finance lagi. tengok muka dia dah tua sangat sebab kerja keras dari muda sampai tua. pendapatan dia masih tinggi although dia dah pencen sekarang nie. dia sepatutnya tanggung aku sorang jek tapi still dia ralat. aku mintak duit kt dia terasa macam aku nie peminta sedekah. duit memang problem pada aku sekarang nie. \n",
      "Exception at:  Harap-harap admin post. Kahwin senyap. Saya seorang lelaki yang sudah bergelar suami… Apabila saya terbaca rintihan sister yang berkahwin senyap tu, satu perkara muncul di benak fikiran saya. Suaminya memang tak bertanggungjawab. Suaminya hanya mahukan seks. Isteri saya juga bersetuju dengan kenyataan saya. Maaf, kasar sedikit kata-katanya. Tapi ada sebab saya kata begitu. Jika suaminya itu bertanggungjawab, dia tidak akan serahkan urusan merancang kehamilan tu kepada isterinya. Dia sendiri akan berusaha, bukannya membeli pil perancang yang mahal dan memberi kesan kepada isteri. Si suami sendiri yang mencari alternatif perancang kehamilan seperti kondom. Saya juga yakin, si suami yang begitu hendak berkahwin sebelum ini dengan alasan untuk mengelakkan zina. Si isteri hanya ikut kata si suami kerana yakin si suami mampu menjaganya. Saya cukup marah dan sedih apabila membaca kisah sebegini. Nampak sangat betapa tidak bersedianya si suami untuk memegang amanah dan tanggungjawab yang berat. Nampak sangat si suami tidak mampu hidup tanpa ibu bapanya. Namun, pada masa yang sama, saya bersyukur kerana saya tidak melakukan perkara yang sama semasa belajar dulu. Saya masih ingat, betapa saya bergaduh dengan ibu bapa saya kerana hendak berkahwin semasa belajar. Betapa derhaka saya ketika itu. Tapi nampak hikmahnya ketika itu. Akhirnya berkahwin dengan orang yang jauh lebih baik dan jauh lebih menenangkan hati. Ibu bapa juga menyayangi. Saya cuma nak nasihatkan kepada adik yang sudah mengandung tu, kami suami isteri sanggup membantu. Dari segi nasihat, atau mungkin bantuan kewangan serba sedikit. Ingat, kalau tak sayangkan diri pun, sayangkan anak tu. Anak tu perlu diperiksa. Boleh sms saya di 0193988082 kalau sister terbaca mesej ni. Salam kepada saudari yang confess kahwin senyap-senyap. Moga saudari baca dalam keadaan tenang, dan diharapkan suami saudari juga membaca confession ini. Anak yg baik tidak akan pernah membelakangkan ibu bapa. Apapun, tahniah. Sis dan suami pilih jalan yang diredhai Allah. Apa yang boleh saya cadangkan kepada saudari. 1) Bincang elok-elok dengan suami. 2) Buat solat hajat berjemaah dengan suami, kalau boleh waktu Qiamulail… minta Allah lembutkan hati mak ayah. 3)Balik kampung jumpa mak ayah… minta maaf n restu mereka. Soal mereka restu ke tak. itu hak mereka sebagai mak ayah. 4)Tunjukkan kematangan dan bincang dengan mak ayah secara hikmah tentang hala tuju dan juga masa depan rumahtangga. Tentang status belajar saudari, terpulanglah nak extend belajar sampai bersalin habis pantang ker atau nak teruskan belajar dalam keadaan tengah sarat nanti…. tapi kena hebahkan dulu perkahwinan supaya tiada fitnah kelak. Kena kuat. Perkara yang baik usahlah disorok-disorok. Beranikan diri. Tentang zuriat… zuriat adalah rezeki daripada Allah. Isteri kena yakinkan suami sementara suami pula kena support dan bimbing isteri mengikut landasan yang sebenar, 5)Buktikan kalian mampu berdikari dan perkahwinan bukanlah penghalang untuk maju kehadapan. Jangan risau pasal ekonomi. rancang kewangan… buatlah kerja part-time atau mulakan bisnes secara kecil-kecilan bersama-sama suami. Susah senang, seronok sakit mesti sama-sama ye. perumpamaan membina masjid tidak semudah merobohkan masjid. Berjuanglah untuk mengukuhkan bahtera perkahwinan kalian. Yakinlah…setiap kebuntuan ada jalan penyelesaian selagi kamu berusaha dan bertawakal kepada Allah. Kata Irfan Khairi, bila buntu…take your time to relax… atau step back sekejap. Jangan terus move forward atau buat keputusan dalam keadaan fikiran tengah berserabut. Sebab potensi untuk buat keputusan yang salah sangat tinggi. \n"
     ]
    }
   ],
   "metadata": {}
  },
  {
   "cell_type": "code",
   "execution_count": 24,
   "source": [
    "len(subtitle_text_list)\n",
    "comma = period = question = 0\n",
    "for i in tqdm(subtitle_text_list):\n",
    "    for j in i:\n",
    "        if j == ',':\n",
    "            comma += 1\n",
    "        elif j == '.':\n",
    "            period += 1\n",
    "        elif j == '?':\n",
    "            question+=1\n",
    "\n",
    "word_count = 0\n",
    "for j in tqdm(subtitle_text_list):\n",
    "    for i in j.split():\n",
    "        if len(i) == 1 and i not in [',','?','.','!','>','<','(',')','[',']']:\n",
    "            word_count+=1\n",
    "        elif len(i) > 1:\n",
    "            word_count+=1\n"
   ],
   "outputs": [
    {
     "output_type": "display_data",
     "data": {
      "application/vnd.jupyter.widget-view+json": {
       "version_major": 2,
       "version_minor": 0,
       "model_id": "d959e75ab6df4d24896eb72339becdd3"
      },
      "text/plain": [
       "  0%|          | 0/23680 [00:00<?, ?it/s]"
      ]
     },
     "metadata": {}
    },
    {
     "output_type": "display_data",
     "data": {
      "application/vnd.jupyter.widget-view+json": {
       "version_major": 2,
       "version_minor": 0,
       "model_id": "16e445c9dfd943908155c607bca66c27"
      },
      "text/plain": [
       "  0%|          | 0/23680 [00:00<?, ?it/s]"
      ]
     },
     "metadata": {}
    }
   ],
   "metadata": {}
  },
  {
   "cell_type": "code",
   "execution_count": 25,
   "source": [
    "from texttable import Texttable\n",
    "result = Texttable()\n",
    "result.add_rows([['Word count','period','comma','question'],[word_count, period, comma, question]])\n",
    "\n",
    "print(result.draw())"
   ],
   "outputs": [
    {
     "output_type": "stream",
     "name": "stdout",
     "text": [
      "+------------+---------+--------+----------+\n",
      "| Word count | period  | comma  | question |\n",
      "+============+=========+========+==========+\n",
      "| 12770947   | 1114980 | 635112 | 64487    |\n",
      "+------------+---------+--------+----------+\n"
     ]
    }
   ],
   "metadata": {}
  },
  {
   "cell_type": "code",
   "execution_count": 26,
   "source": [
    "from sklearn.model_selection import train_test_split\n",
    "for i in range(len(subtitle_text_list)):\n",
    "    subtitle_text_list[i]+= '\\n'\n",
    "train_malay, test_malay = train_test_split(subtitle_text_list,train_size=0.99)\n",
    "valid_malay, test_malay = train_test_split(test_malay,train_size=1/3)\n",
    "print(len(subtitle_text_list),len(train_malay),len(valid_malay),len(test_malay))\n",
    "with open(\"../dataset/malay-dataset/train_malay.txt\",'w') as f:\n",
    "    f.writelines(train_malay)\n",
    "\n",
    "with open(\"../dataset/malay-dataset/valid_malay.txt\",'w') as f:\n",
    "    f.writelines(valid_malay)\n",
    "\n",
    "with open(\"../dataset/malay-dataset/test_malay.txt\",'w') as f:\n",
    "    f.writelines(test_malay)"
   ],
   "outputs": [
    {
     "output_type": "stream",
     "name": "stdout",
     "text": [
      "23680 23443 79 158\n"
     ]
    }
   ],
   "metadata": {}
  }
 ],
 "metadata": {
  "orig_nbformat": 4,
  "language_info": {
   "name": "python",
   "version": "3.9.7",
   "mimetype": "text/x-python",
   "codemirror_mode": {
    "name": "ipython",
    "version": 3
   },
   "pygments_lexer": "ipython3",
   "nbconvert_exporter": "python",
   "file_extension": ".py"
  },
  "kernelspec": {
   "name": "python3",
   "display_name": "Python 3.9.7 64-bit ('mPunct': venv)"
  },
  "interpreter": {
   "hash": "06104f49c891daee45eafca5ae03f03e0f4b8073189a7d11a82672024b1da1ff"
  }
 },
 "nbformat": 4,
 "nbformat_minor": 2
}