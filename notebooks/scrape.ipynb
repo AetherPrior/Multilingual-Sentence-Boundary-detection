{
 "cells": [
  {
   "cell_type": "code",
   "execution_count": 2,
   "source": [
    "import requests \n",
    "from bs4 import BeautifulSoup\n",
    "import numpy as np\n",
    "import pandas as pd"
   ],
   "outputs": [],
   "metadata": {}
  },
  {
   "cell_type": "code",
   "execution_count": 13,
   "source": [
    "urllist = []\n",
    "for pageno in range(5,6):\n",
    "    page = requests.get(\"https://www.ted.com/talks?language=ms&page={pageno}\")\n",
    "    elements = BeautifulSoup(page.content, \"html.parser\")\n",
    "    columns = elements.find_all(name=\"a\",attrs={'data-ga-context': 'talks'},class_='ga-link')\n",
    "    for col in range(len(columns)):\n",
    "        urllist.append(\"https://www.ted.com/\"+columns[col]['href'])\n",
    "\n",
    "urllist"
   ],
   "outputs": [
    {
     "output_type": "execute_result",
     "data": {
      "text/plain": [
       "['https://www.ted.com//talks/tom_rivett_carnac_how_to_shift_your_mindset_and_choose_your_future?language=ms',\n",
       " 'https://www.ted.com//talks/tom_rivett_carnac_how_to_shift_your_mindset_and_choose_your_future?language=ms',\n",
       " 'https://www.ted.com//talks/david_lindell_a_camera_that_can_see_around_corners?language=ms',\n",
       " 'https://www.ted.com//talks/david_lindell_a_camera_that_can_see_around_corners?language=ms',\n",
       " 'https://www.ted.com//talks/adam_kucharski_how_can_we_control_the_coronavirus_pandemic?language=ms',\n",
       " 'https://www.ted.com//talks/adam_kucharski_how_can_we_control_the_coronavirus_pandemic?language=ms',\n",
       " 'https://www.ted.com//talks/matt_cutts_what_happens_when_a_silicon_valley_technologist_works_for_the_government?language=ms',\n",
       " 'https://www.ted.com//talks/matt_cutts_what_happens_when_a_silicon_valley_technologist_works_for_the_government?language=ms',\n",
       " 'https://www.ted.com//talks/david_heymann_what_we_do_and_don_t_know_about_the_coronavirus?language=ms',\n",
       " 'https://www.ted.com//talks/david_heymann_what_we_do_and_don_t_know_about_the_coronavirus?language=ms',\n",
       " 'https://www.ted.com//talks/alicia_eggert_imaginative_sculptures_that_explore_how_we_perceive_reality?language=ms',\n",
       " 'https://www.ted.com//talks/alicia_eggert_imaginative_sculptures_that_explore_how_we_perceive_reality?language=ms',\n",
       " 'https://www.ted.com//talks/jessica_ochoa_hendrix_how_virtual_reality_turns_students_into_scientists?language=ms',\n",
       " 'https://www.ted.com//talks/jessica_ochoa_hendrix_how_virtual_reality_turns_students_into_scientists?language=ms',\n",
       " 'https://www.ted.com//talks/christopher_bahl_a_new_type_of_medicine_custom_made_with_tiny_proteins?language=ms',\n",
       " 'https://www.ted.com//talks/christopher_bahl_a_new_type_of_medicine_custom_made_with_tiny_proteins?language=ms',\n",
       " 'https://www.ted.com//talks/erin_sullivan_does_photographing_a_moment_steal_the_experience_from_you?language=ms',\n",
       " 'https://www.ted.com//talks/erin_sullivan_does_photographing_a_moment_steal_the_experience_from_you?language=ms',\n",
       " 'https://www.ted.com//talks/jen_gunter_why_can_t_we_talk_about_periods?language=ms',\n",
       " 'https://www.ted.com//talks/jen_gunter_why_can_t_we_talk_about_periods?language=ms',\n",
       " 'https://www.ted.com//talks/robert_frost_the_road_not_taken?language=ms',\n",
       " 'https://www.ted.com//talks/robert_frost_the_road_not_taken?language=ms',\n",
       " 'https://www.ted.com//talks/priyanka_jain_how_to_make_applying_for_jobs_less_painful?language=ms',\n",
       " 'https://www.ted.com//talks/priyanka_jain_how_to_make_applying_for_jobs_less_painful?language=ms',\n",
       " 'https://www.ted.com//talks/wendy_de_la_rosa_3_psychological_tricks_to_help_you_save_money?language=ms',\n",
       " 'https://www.ted.com//talks/wendy_de_la_rosa_3_psychological_tricks_to_help_you_save_money?language=ms',\n",
       " 'https://www.ted.com//talks/lydia_machova_the_secrets_of_learning_a_new_language?language=ms',\n",
       " 'https://www.ted.com//talks/lydia_machova_the_secrets_of_learning_a_new_language?language=ms',\n",
       " 'https://www.ted.com//talks/michael_c_bush_this_is_what_makes_employees_happy_at_work?language=ms',\n",
       " 'https://www.ted.com//talks/michael_c_bush_this_is_what_makes_employees_happy_at_work?language=ms',\n",
       " 'https://www.ted.com//talks/david_cage_how_video_games_turn_players_into_storytellers?language=ms',\n",
       " 'https://www.ted.com//talks/david_cage_how_video_games_turn_players_into_storytellers?language=ms',\n",
       " 'https://www.ted.com//talks/ozlem_cekic_why_i_have_coffee_with_people_who_send_me_hate_mail?language=ms',\n",
       " 'https://www.ted.com//talks/ozlem_cekic_why_i_have_coffee_with_people_who_send_me_hate_mail?language=ms',\n",
       " 'https://www.ted.com//talks/elizabeth_cox_a_day_in_the_life_of_an_ancient_egyptian_doctor?language=ms',\n",
       " 'https://www.ted.com//talks/elizabeth_cox_a_day_in_the_life_of_an_ancient_egyptian_doctor?language=ms',\n",
       " 'https://www.ted.com//talks/douglas_l_oliver_the_science_of_hearing?language=ms',\n",
       " 'https://www.ted.com//talks/douglas_l_oliver_the_science_of_hearing?language=ms',\n",
       " 'https://www.ted.com//talks/helen_gillet_you_found_me?language=ms',\n",
       " 'https://www.ted.com//talks/helen_gillet_you_found_me?language=ms',\n",
       " 'https://www.ted.com//talks/yasin_kakande_what_s_missing_in_the_global_debate_over_refugees?language=ms',\n",
       " 'https://www.ted.com//talks/yasin_kakande_what_s_missing_in_the_global_debate_over_refugees?language=ms',\n",
       " 'https://www.ted.com//talks/hadi_eldebek_why_must_artists_be_poor?language=ms',\n",
       " 'https://www.ted.com//talks/hadi_eldebek_why_must_artists_be_poor?language=ms',\n",
       " 'https://www.ted.com//talks/curtis_wall_street_carroll_how_i_learned_to_read_and_trade_stocks_in_prison?language=ms',\n",
       " 'https://www.ted.com//talks/curtis_wall_street_carroll_how_i_learned_to_read_and_trade_stocks_in_prison?language=ms',\n",
       " 'https://www.ted.com//talks/deanna_pucciarelli_the_history_of_chocolate?language=ms',\n",
       " 'https://www.ted.com//talks/deanna_pucciarelli_the_history_of_chocolate?language=ms',\n",
       " 'https://www.ted.com//talks/aala_el_khani_what_it_s_like_to_be_a_parent_in_a_war_zone?language=ms',\n",
       " 'https://www.ted.com//talks/aala_el_khani_what_it_s_like_to_be_a_parent_in_a_war_zone?language=ms',\n",
       " 'https://www.ted.com//talks/megan_campisi_and_pen_pen_chen_the_myth_behind_the_chinese_zodiac?language=ms',\n",
       " 'https://www.ted.com//talks/megan_campisi_and_pen_pen_chen_the_myth_behind_the_chinese_zodiac?language=ms',\n",
       " 'https://www.ted.com//talks/jia_jiang_what_i_learned_from_100_days_of_rejection?language=ms',\n",
       " 'https://www.ted.com//talks/jia_jiang_what_i_learned_from_100_days_of_rejection?language=ms',\n",
       " 'https://www.ted.com//talks/tim_harford_how_frustration_can_make_us_more_creative?language=ms',\n",
       " 'https://www.ted.com//talks/tim_harford_how_frustration_can_make_us_more_creative?language=ms',\n",
       " 'https://www.ted.com//talks/james_veitch_this_is_what_happens_when_you_reply_to_spam_email?language=ms',\n",
       " 'https://www.ted.com//talks/james_veitch_this_is_what_happens_when_you_reply_to_spam_email?language=ms',\n",
       " 'https://www.ted.com//talks/harry_cliff_have_we_reached_the_end_of_physics?language=ms',\n",
       " 'https://www.ted.com//talks/harry_cliff_have_we_reached_the_end_of_physics?language=ms',\n",
       " 'https://www.ted.com//talks/chieko_asakawa_how_new_technology_helps_blind_people_explore_the_world?language=ms',\n",
       " 'https://www.ted.com//talks/chieko_asakawa_how_new_technology_helps_blind_people_explore_the_world?language=ms',\n",
       " 'https://www.ted.com//talks/regina_hartley_why_the_best_hire_might_not_have_the_perfect_resume?language=ms',\n",
       " 'https://www.ted.com//talks/regina_hartley_why_the_best_hire_might_not_have_the_perfect_resume?language=ms',\n",
       " 'https://www.ted.com//talks/yuval_noah_harari_what_explains_the_rise_of_humans?language=ms',\n",
       " 'https://www.ted.com//talks/yuval_noah_harari_what_explains_the_rise_of_humans?language=ms',\n",
       " 'https://www.ted.com//talks/alaa_murabit_what_my_religion_really_says_about_women?language=ms',\n",
       " 'https://www.ted.com//talks/alaa_murabit_what_my_religion_really_says_about_women?language=ms',\n",
       " 'https://www.ted.com//talks/joey_alexander_an_11_year_old_prodigy_performs_old_school_jazz?language=ms',\n",
       " 'https://www.ted.com//talks/joey_alexander_an_11_year_old_prodigy_performs_old_school_jazz?language=ms',\n",
       " 'https://www.ted.com//talks/lee_mokobe_a_powerful_poem_about_what_it_feels_like_to_be_transgender?language=ms',\n",
       " 'https://www.ted.com//talks/lee_mokobe_a_powerful_poem_about_what_it_feels_like_to_be_transgender?language=ms']"
      ]
     },
     "metadata": {},
     "execution_count": 13
    }
   ],
   "metadata": {}
  },
  {
   "cell_type": "code",
   "execution_count": 12,
   "source": [
    "len(urllist)"
   ],
   "outputs": [
    {
     "output_type": "execute_result",
     "data": {
      "text/plain": [
       "72"
      ]
     },
     "metadata": {},
     "execution_count": 12
    }
   ],
   "metadata": {}
  }
 ],
 "metadata": {
  "orig_nbformat": 4,
  "language_info": {
   "name": "python",
   "version": "3.9.7",
   "mimetype": "text/x-python",
   "codemirror_mode": {
    "name": "ipython",
    "version": 3
   },
   "pygments_lexer": "ipython3",
   "nbconvert_exporter": "python",
   "file_extension": ".py"
  },
  "kernelspec": {
   "name": "python3",
   "display_name": "Python 3.9.7 64-bit ('mPunct': venv)"
  },
  "interpreter": {
   "hash": "06104f49c891daee45eafca5ae03f03e0f4b8073189a7d11a82672024b1da1ff"
  }
 },
 "nbformat": 4,
 "nbformat_minor": 2
}