{
 "cells": [
  {
   "cell_type": "code",
   "execution_count": 1,
   "source": [
    "import os\n",
    "import xml.etree.ElementTree as ET\n",
    "import re"
   ],
   "outputs": [],
   "metadata": {}
  },
  {
   "cell_type": "markdown",
   "source": [
    "# Dev set"
   ],
   "metadata": {}
  },
  {
   "cell_type": "code",
   "execution_count": 2,
   "source": [
    "data_path = \"../dataset/en-fr/\"\n",
    "file_path = data_path + \"IWSLT12.TALK.dev2010.en-fr.en.xml\" #\"train.tags.en-fr.en\""
   ],
   "outputs": [],
   "metadata": {}
  },
  {
   "cell_type": "code",
   "execution_count": 3,
   "source": [
    "xmlp = ET.XMLParser(encoding=\"utf-8\")\n",
    "tree = ET.parse(file_path, parser=xmlp)\n",
    "root = tree.getroot()"
   ],
   "outputs": [],
   "metadata": {}
  },
  {
   "cell_type": "code",
   "execution_count": 4,
   "source": [
    "for child in root:\n",
    "    print(child.tag, child.attrib)"
   ],
   "outputs": [
    {
     "output_type": "stream",
     "name": "stdout",
     "text": [
      "srcset {'setid': 'iwslt2012-dev2010', 'srclang': 'english'}\n"
     ]
    }
   ],
   "metadata": {}
  },
  {
   "cell_type": "code",
   "execution_count": 6,
   "source": [
    "docs = []\n",
    "\n",
    "for doc_id in range(len(root[0])):\n",
    "    doc_segs = []\n",
    "    doc = root[0][doc_id]\n",
    "    for seg in doc.iter('seg'):\n",
    "        doc_segs.append(seg.text)\n",
    "    docs.append(doc_segs)\n",
    "\n",
    "print(docs[0])\n"
   ],
   "outputs": [
    {
     "output_type": "stream",
     "name": "stdout",
     "text": [
      "['  You know, one of the intense pleasures of travel  and one of the delights of ethnographic research  is the opportunity to live amongst those  who have not forgotten the old ways,  who still feel their past in the wind,  touch it in stones polished by rain,  taste it in the bitter leaves of plants.  ', '  Just to know that Jaguar shamans still journey beyond the Milky Way,  or the myths of the Inuit elders still resonate with meaning,  or that in the Himalaya,  the Buddhists still pursue the breath of the Dharma,  is to really remember the central revelation of anthropology,  and that is the idea that the world in which we live in  does not exist in some absolute sense,  but is just one model of reality,  the consequence of one particular set of adaptive choices  that our lineage made, albeit successfully, many generations ago.  ', '  And of course, we all share the same adaptive imperatives.  ', \"  We're all born. We all bring our children into the world.  \", '  We go through initiation rites.  ', \"  We have to deal with the inexorable separation of death,  so it shouldn't surprise us that we all sing, we all dance,  we all have art.  \", \"  But what's interesting is the unique cadence of the song,  the rhythm of the dance in every culture.  \", '  And whether it is the Penan in the forests of Borneo,  or the Voodoo acolytes in Haiti,  or the warriors in the Kaisut desert of Northern Kenya,  the Curandero in the mountains of the Andes,  or a caravanserai in the middle of the Sahara.  ', '  This is incidentally the fellow that I travelled into the desert with  a month ago,  or indeed a yak herder in the slopes of Qomolangma,  Everest, the goddess mother of the world.  ', '  All of these peoples teach us that there are other ways of being,  other ways of thinking,  other ways of orienting yourself in the Earth.  ', '  And this is an idea, if you think about it,  can only fill you with hope.  ', '  Now, together the myriad cultures of the world  make up a web of spiritual life and cultural life  that envelops the planet,  and is as important to the well-being of the planet  as indeed is the biological web of life that you know as a biosphere.  ', '  And you might think of this cultural web of life  as being an ethnosphere  and you might define the ethnosphere  as being the sum total of all thoughts and dreams, myths,  ideas, inspirations, intuitions brought into being  by the human imagination since the dawn of consciousness.  ', \"  The ethnosphere is humanity's great legacy.  \", \"  It's the symbol of all that we are  and all that we can be as an astonishingly inquisitive species.  \", '  And just as the biosphere has been severely eroded,  so too is the ethnosphere  -- and if anything at a far greater rate.  ', '  No biologists, for example, would dare suggest  that 50 percent of all species or more have been or are  on the brink of extinction because it simply is not true,  and yet that -- the most apocalyptic scenario  in the realm of biological diversity --  scarcely approaches what we know to be the most optimistic scenario  in the realm of cultural diversity.  ', '  And the great indicator of that, of course, is language loss.  ', '  When each of you in this room were born,  there were 6,000 languages spoken on the planet.  ', '  Now, a language is not just a body of vocabulary  or a set of grammatical rules.  ', '  A language is a flash of the human spirit.  ', \"  It's a vehicle through which the soul of each particular culture  comes into the material world.  \", '  Every language is an old-growth forest of the mind,  a watershed, a thought, an ecosystem of spiritual possibilities.  ', '  And of those 6,000 languages, as we sit here today in Monterey,  fully half are no longer being whispered into the ears of children.  ', \"  They're no longer being taught to babies,  which means, effectively, unless something changes,  they're already dead.  \", '  What could be more lonely than to be enveloped in silence,  to be the last of your people to speak your language,  to have no way to pass on the wisdom of the ancestors  or anticipate the promise of the children?  ', '  And yet, that dreadful fate is indeed the plight of somebody  somewhere on Earth roughly every two weeks,  because every two weeks, some elder dies  and carries with him into the grave the last syllables  of an ancient tongue.  ', '  And I know there\\'s some of you who say, \"Well, wouldn\\'t it be better?  ', '  Wouldn\\'t the world be a better place  if we all just spoke one language?\" And I say, \"Great,  let\\'s make that language Yoruba. Let\\'s make it Cantonese.  ', '  Let\\'s make it Kogi.\"  ', \"  And you'll suddenly discover what it would be like  to be unable to speak your own language.  \", \"  And so, what I'd like to do with you today  is sort of take you on a journey through the ethnosphere --  a brief journey through the ethnosphere  to try to begin to give you a sense of what in fact is being lost.  \", '  Now, there are many of us who sort of forget  that when I say \"different ways of being,\"  I really do mean different ways of being.  ', '  Take, for example, this child of Barasana in Northwest Amazon,  the people of the anaconda  who believe that mythologically they came up the milk river  from the east in the belly of sacred snakes.  ', '  Now, this is a people who cognitively  do not distinguish the color blue from the color green  because the canopy of the heavens  is equated to the canopy of the forest  upon which the people depend.  ', '  They have a curious language and marriage rule  which is called linguistic exogamy:  you must marry someone who speaks a different language.  ', '  And this is all rooted in the mythological past,  yet the curious thing is in these long houses  where there are six or seven languages spoken  because of intermarriage,  you never hear anyone practicing a language.  ', '  They simply listen and then begin to speak.  ', '  Or, one of the most fascinating tribes I ever lived with,  the Waorani of northeastern Ecuador,  an astonishing people first contacted peacefully in 1958.  ', '  In 1957, five missionaries attempted contact  and made a critical mistake.  ', '  They dropped from the air  eight by ten glossy photographs of themselves  in what we would say to be friendly gestures,  forgetting that these people of the rainforest  had never seen anything two-dimensional in their lives.  ', '  They picked up these photographs from the forest floor,  tried to look behind the face to find the form or the figure,  found nothing, and concluded that these were calling cards  from the devil, so they speared the five missionaries to death.  ', \"  But the Waorani didn't just spear outsiders.  \", '  They speared each other.  ', '  54 percent of their mortality was due to them spearing each other.  ', '  We traced genealogies back eight generations,  and we found two instances of natural death  and when we pressured the people a little bit about it,  they admitted that one of the fellows had gotten so old  that he died getting old, so we speared him anyway.  ', '  But at the same time they had a perspicacious knowledge  of the forest that was astonishing.  ', '  Their hunters could smell animal urine at 40 paces  and tell you what species left it behind.  ', \"  In the early '80s, I had a really astonishing assignment  when I was asked by my professor at Harvard  if I was interested in going down to Haiti,  infiltrating the secret societies  which were the foundation Duvalier's strength  and Tonton Macoutes,  and securing the poison used to make zombies.  \", '  In order to make sense out of sensation of course,  I had to understand something about this remarkable faith  of Vodoun, and Voodoo is not a black magic cult.  ', \"  On the contrary, it's a complex metaphysical worldview.  \", \"  It's interesting.  \", '  If I asked you to name the great religions of the world,  what would you say?  ', '  Christianity, Islam, Buddhism, Judaism, whatever.  ', \"  There's always one continent left out,  the assumption being that sub-Saharan Africa  had no religious beliefs. Well, of course, they did  and Voodoo is simply the distillation  of these very profound religious ideas  that came over during the tragic Diaspora of the slavery era.  \", \"  But, what makes Voodoo so interesting  is that it's this living relationship  between the living and the dead.  \", '  So, the living give birth to the spirits.  ', '  The spirits can be invoked from beneath the Great Water,  responding to the rhythm of the dance  to momentarily displace the soul of the living,  so that for that brief shining moment, the acolyte becomes the god.  ', '  That\\'s why the Voodooists like to say  that \"You white people go to church and speak about God.  ', '  We dance in the temple and become God.\"  ', '  And because you are possessed, you are taken by the spirit,  how can you be harmed?  ', '  So you see these astonishing demonstrations:  Voodoo acolytes in a state of trance  handling burning embers with impunity,  a rather astonishing demonstration of the ability of the mind  to affect the body that bears it  when catalyzed in the state of extreme excitation.  ', \"  Now, of all the peoples that I've ever been with,  the most extraordinary are the Kogi  of the Sierra Nevada de Santa Marta in northern Colombia.  \", '  Descendants of the ancient Tairona civilization  which once carpeted the Caribbean coastal plain of Colombia  in the wake of the conquest,  these people retreated into an isolated volcanic massif  that soars above the Caribbean coastal plain.  ', '  In a bloodstained continent,  these people alone were never conquered by the Spanish.  ', '  To this day, they remain ruled by a ritual priesthood  but the training for the priesthood is rather extraordinary.  ', '  The young acolytes are taken away from their families  at the age of three and four,  sequestered in a shadowy world of darkness  in stone huts at the base of glaciers for 18 years.  ', \"  Two nine-year periods  deliberately chosen to mimic the nine months of gestation  they spend in their natural mother's womb,  now they are metaphorically in the womb of the great mother.  \", '  And for this entire time,  they are inculturated into the values of their society,  values that maintain the proposition that their prayers  and their prayers alone maintain the cosmic --  or we might say the ecological -- balance.  ', '  And at the end of this amazing initiation,  one day they\\'re suddenly taken out  and for the first time in their lives, at the age of 18,  they see a sunrise. And in that crystal moment of awareness  of first light as the Sun begins to bathe the slopes  of the stunningly beautiful landscape,  suddenly everything they have learned in the abstract  is affirmed in stunning glory. And the priest steps back  and says, \"You see? It\\'s really as I\\'ve told you.  ', '  It is that beautiful. It is yours to protect.\"  ', '  They call themselves the elder brothers  and they say we, who are the younger brothers,  are the ones responsible for destroying the world.  ', '  Now, this level of intuition becomes very important.  ', '  Whenever we think of indigenous people and landscape,  we either invoke Rousseau  and the old canard of the noble savage,  which is an idea racist in its simplicity,  or alternatively, we invoke Thoreau  and say these people are closer to the Earth than we are.  ', '  Well, indigenous people are neither sentimental  nor weakened by nostalgia.  ', \"  There's not a lot of room for either  in the malarial swamps of the Asmat  or in the chilling winds of Tibet, but they have, nevertheless,  through time and ritual, forged a traditional mystique of the Earth  that is based not on the idea of being self-consciously close to it,  but on a far subtler intuition:  the idea that the Earth itself can only exist  because it is breathed into being by human consciousness.  \", '  Now, what does that mean?  ', \"  It means that a young kid from the Andes  who's raised to believe that that mountain is an Apu spirit  that will direct his or her destiny  will be a profoundly different human being  and have a different relationship to that resource  or that place than a young kid from Montana  raised to believe that a mountain is a pile of rock  ready to be mined.  \", \"  Whether it's the abode of a spirit or a pile of ore is irrelevant.  \", \"  What's interesting is the metaphor that defines the relationship  between the individual and the natural world.  \", '  I was raised in the forests of British Columbia  to believe those forests existed to be cut.  ', '  That made me a different human being  than my friends among the Kwagiulth  who believe that those forests were the abode of Huxwhukw  and the Crooked Beak of Heaven  and the cannibal spirits that dwelled at the north end of the world,  spirits they would have to engage during their Hamatsa initiation.  ', '  Now, if you begin to look at the idea  that these cultures could create different realities,  you could begin to understand  some of their extraordinary discoveries. Take this plant here.  ', \"  It's a photograph I took in the Northwest Amazon just last April.  \", \"  This is ayahuasca, which many of you have heard about,  the most powerful psychoactive preparation  of the shaman's repertoire.  \", \"  What makes ayahuasca fascinating  is not the sheer pharmacological potential of this preparation,  but the elaboration of it. It's made really of two different sources.  \", \"  On the one hand, there's this woody liana  which has in it a series of beta-carbolines,  harmine, harmaline, mildly hallucinogenic.  \", \"  To take the vine alone  is rather to have sort of blue hazy smoke  drift across your consciousness,  but it's mixed with the leaves of a shrub in the coffee family  called Psychotria viridis.  \", '  This plant had in it some very powerful tryptamines,  very close to brain serotonin, dimethyltryptamine,  5-methoxydimethyltryptamine.  ', \"  If you've ever seen the Yanomami  blowing that snuff up their noses,  that substance they make from a different set of species  also contains methoxydimethyltryptamine.  \", '  To have that powder blown up your nose  is rather like being shot out of a rifle barrel  lined with baroque paintings and landing on a sea of electricity.  ', \"  It doesn't create the distortion of reality;  it creates the dissolution of reality.  \", '  In fact, I used to argue with my professor, Richard Evan Shultes --  who is a man who sparked the psychedelic era  with his discovery of the magic mushrooms  in Mexico in the 1930s.  ', \"  I used to argue that you couldn't classify these tryptamines  as hallucinogenic because by the time you're under the effects  there's no one home anymore to experience a hallucination.  \", \"  But the thing about tryptamines is they cannot be taken orally  because they're denatured by an enzyme  found naturally in the human gut called monoamine oxidase.  \", '  They can only be taken orally if taken in conjunction  with some other chemical that denatures the MAO.  ', '  Now, the fascinating things  are that the beta-carbolines found within that liana  are MAO inhibitors of the precise sort necessary  to potentiate the tryptamine. So you ask yourself a question.  ', '  How in a flora of 80,000 species of vascular plants,  do these people find these two morphologically unrelated plants  that when combined in this way,  created a kind of biochemical version  of the whole being greater than the sum of the parts?  ', '  Well, we use that great euphemism, trial and error,  which is exposed to be meaningless.  ', '  But you ask the Indians, and they say, \"The plants talk to us.\"  ', '  Well, what does that mean?  ', '  This tribe, the Cofan, has 17 varieties of ayahuasca,  all of which they distinguish a great distance in the forest,  all of which are referable to our eye as one species.  ', '  And then you ask them how they establish their taxonomy  and they say, \"I thought you knew something about plants.  ', '  I mean, don\\'t you know anything?\" And I said, \"No.\"  ', '  Well, it turns out you take each of the 17 varieties  in the night of a full moon, and it sings to you in a different key.  ', \"  Now, that's not going to get you a Ph.D. at Harvard,  but it's a lot more interesting than counting stamens.  \", '  Now,  the problem -- the problem is that even those of us  sympathetic with the plight of indigenous people  view them as quaint and colorful  but somehow reduced to the margins of history  as the real world, meaning our world, moves on.  ', \"  Well, the truth is the 20th century, 300 years from now,  is not going to be remembered for its wars  or its technological innovations,  but rather as the era in which we stood by  and either actively endorsed or passively accepted  the massive destruction of both biological and cultural diversity  on the planet. Now, the problem isn't change.  \", '  All cultures through all time  have constantly been engaged in a dance  with new possibilities of life.  ', '  And the problem is not technology itself.  ', '  The Sioux Indians did not stop being Sioux  when they gave up the bow and arrow  any more than an American stopped being an American  when he gave up the horse and buggy.  ', \"  It's not change or technology  that threatens the integrity of the ethnosphere. It is power.  \", '  The crude face of domination.  ', '  Where ever you look around the world,  you discover that these are not cultures destined to fade away.  ', '  These are dynamic living peoples  being driven out of existence by identifiable forces  that are beyond their capacity to adapt to.  ', \"  Whether it's the egregious deforestation  in the homeland of the Penan --  a nomadic people from Southeast Asia, from Sarawak --  a people who lived free in the forest until a generation ago,  and now have all been reduced to servitude and prostitution  on the banks of the rivers,  where you can see the river itself is soiled with the silt  that seems to be carrying half of Borneo away  to the South China Sea,  where the Japanese freighters hang light in the horizon  ready to fill their holds with raw logs ripped from the forest.  \", \"  Or in the case of the Yanomami,  it's the disease entities that have come in,  in the wake of the discovery of gold.  \", \"  Or if we go into the mountains of Tibet,  where I'm doing a lot of research recently,  you'll see it's a crude face of political domination.  \", \"  You know, genocide, the physical extinction of a people  is universally condemned, but ethnocide,  the destruction of people's way of life, is not only not condemned,  it's universally -- in many quarters -- celebrated  as part of a development strategy.  \", '  And you cannot understand the pain of Tibet  until you move through it at the ground level.  ', '  I once travelled 6,000 miles from Chengdu in Western China  overland through southeastern Tibet to Lhasa  with a young colleague, and it was only when I got to Lhasa  that I understood the face behind the statistics  you hear about.  ', '  6,000 sacred monuments torn apart to dust and ashes.  ', '  1.2 million people killed by the cadres  during the Cultural Revolution.  ', \"  This young man's father had been ascribed to the Panchen Lama.  \", '  That meant he was instantly killed  at the time of the Chinese invasion.  ', '  His uncle fled with his holiness in the Diaspora  that took the people to Nepal.  ', '  His mother was incarcerated for the price of --  for the crime of being wealthy.  ', \"  He was smuggled into the jail at the age of two  to hide beneath her skirt tails  because she couldn't bear to be without him.  \", '  The sister who had done that brave deed  was put into an education camp.  ', '  One day she inadvertently stepped on an armband  of Mao, and for that transgression,  she was given seven years of hard labor.  ', '  The pain of Tibet can be impossible to bear,  but the redemptive spirit of the people is something to behold.  ', '  And in the end, then, it really comes down to a choice.  ', '  Do we want to live in a monochromatic world of monotony  or do we want to embrace a polychromatic world of diversity?  ', '  Margaret Mead, the great anthropologist, said before she died  that her greatest fear was that as we drifted towards  this blandly amorphous generic world view  not only would we see the entire range of the human imagination  reduced to a more narrow modality of thought,  but that we would wake from a dream one day  having forgotten there were even other possibilities.  ', \"  And it's humbling to remember that our species has, perhaps,  been around for [150,000] years.  \", '  The Neolithic Revolution -- which gave us agriculture,  at which time we succumbed to the cult of the seed,  the poetry of the shaman was displaced  by the prose of the priesthood,  we created hierarchy specialization surplus --  is only 10,000 years ago.  ', '  The modern industrial world as we know it  is barely 300 years old.  ', \"  Now, that shallow history doesn't suggest to me  that we have all the answers for all of the challenges  that will confront us in the ensuing millennia.  \", '  When these myriad cultures of the world  are asked the meaning of being human,  they respond with 10,000 different voices.  ', \"  And it's within that song that we will all rediscover the possibility  of being what we are: a fully conscious species,  fully aware of ensuring that all peoples and all gardens  find a way to flourish. And there are great moments of optimism.  \", '  This is a photograph I took at the northern tip of Baffin Island  when I went narwhal hunting with some Inuit people,  and this man, Olayuk, told me a marvelous story of his grandfather.  ', '  The Canadian government has not always been kind  to the Inuit people, and during the 1950s,  to establish our sovereignty, we forced them into settlements.  ', \"  This old man's grandfather refused to go.  \", '  The family, fearful for his life, took away all of his weapons,  all of his tools.  ', '  Now, you must understand that the Inuit did not fear the cold;  they took advantage of it.  ', '  The runners of their sleds were originally made of fish  wrapped in caribou hide.  ', \"  So, this man's grandfather was not intimidated by the Arctic night  or the blizzard that was blowing.  \", '  He simply slipped outside, pulled down his sealskin trousers  and defecated into his hand. And as the feces began to freeze,  he shaped it into the form of a blade.  ', '  He put a spray of saliva on the edge of the shit knife  and as it finally froze solid, he butchered a dog with it.  ', '  He skinned the dog and improvised a harness,  took the ribcage of the dog and improvised a sled,  harnessed up an adjacent dog,  and disappeared over the ice floes, shit knife in belt.  ', '  Talk about getting by with nothing.  ', '  And this, in many ways,  is a symbol of the resilience of the Inuit people  and of all indigenous people around the world.  ', '  The Canadian government in April of 1999  gave back to total control of the Inuit  an area of land larger than California and Texas put together.  ', \"  It's our new homeland. It's called Nunavut.  \", \"  It's an independent territory. They control all mineral resources.  \", '  An amazing example of how a nation-state  can reach -- seek restitution with its people.  ', \"  And finally, in the end, I think it's pretty obvious  at least to all of all us who've travelled  in these remote reaches of the planet,  to realize that they're not remote at all.  \", \"  They're homelands of somebody.  \", '  They represent branches of the human imagination  that go back to the dawn of time. And for all of us,  the dreams of these children, like the dreams of our own children,  become part of the naked geography of hope.  ', \"  So, what we're trying to do at the National Geographic finally,  is, we believe that politicians will never accomplish anything.  \", '  We think that polemics --  we think that polemics are not persuasive,  but we think that storytelling can change the world,  and so we are probably the best storytelling institution  in the world. We get 35 million hits on our website every month.  ', '  156 nations carry our television channel.  ', '  Our magazines are read by millions.  ', \"  And what we're doing is a series of journeys  to the ethnosphere where we're going to take our audience  to places of such cultural wonder  that they cannot help but come away dazzled  by what they have seen, and hopefully, therefore,  embrace gradually, one by one,  the central revelation of anthropology:  that this world deserves to exist in a diverse way,  that we can find a way to live  in a truly multicultural pluralistic world  where all of the wisdom of all peoples  can contribute to our collective well-being.  \", '  Thank you very much.  ']\n"
     ]
    }
   ],
   "metadata": {}
  },
  {
   "cell_type": "code",
   "execution_count": 11,
   "source": [
    "dev_texts = [re.sub(r'\\s+', ' ', ''.join(d)).strip() for d in docs]"
   ],
   "outputs": [],
   "metadata": {}
  },
  {
   "cell_type": "code",
   "execution_count": 12,
   "source": [
    "with open(data_path + 'dev_texts.txt', 'w', encoding='utf-8') as f:\n",
    "    for text in dev_texts:\n",
    "        f.write(text + '\\n')"
   ],
   "outputs": [],
   "metadata": {}
  },
  {
   "cell_type": "markdown",
   "source": [
    "# Test set 2012"
   ],
   "metadata": {}
  },
  {
   "cell_type": "code",
   "execution_count": 18,
   "source": [
    "file_path = data_path + \"IWSLT12.TED.MT.tst2012.en-fr.en.xml\"\n",
    "\n",
    "xmlp = ET.XMLParser(encoding=\"utf-8\")\n",
    "tree = ET.parse(file_path, parser=xmlp)\n",
    "root = tree.getroot()"
   ],
   "outputs": [],
   "metadata": {}
  },
  {
   "cell_type": "code",
   "execution_count": 19,
   "source": [
    "docs = []\n",
    "\n",
    "for doc_id in range(len(root[0])):\n",
    "    doc_segs = []\n",
    "    doc = root[0][doc_id]\n",
    "    for seg in doc.iter('seg'):\n",
    "        doc_segs.append(seg.text)\n",
    "    docs.append(doc_segs)\n",
    "\n",
    "test_texts_2012 = [re.sub(r'\\s+', ' ', ''.join(d)).strip() for d in docs]\n",
    "\n",
    "with open(data_path + 'test_texts_2012.txt', 'w', encoding='utf-8') as f:\n",
    "    for text in test_texts_2012:\n",
    "        f.write(text + '\\n')"
   ],
   "outputs": [],
   "metadata": {}
  },
  {
   "cell_type": "markdown",
   "source": [
    "# Train set"
   ],
   "metadata": {}
  },
  {
   "cell_type": "code",
   "execution_count": 8,
   "source": [
    "file_path = data_path + \"train.tags.en-fr.en\"\n",
    "\n",
    "\"\"\" Wrap original file to make it processable with defualt python parser\n",
    "<?xml version=\"1.0\" encoding=\"UTF-8\"?>\n",
    "<mteval>\n",
    "...\n",
    "</mteval>\n",
    "\"\"\"\n",
    "xmlp = ET.XMLParser(encoding=\"utf-8\")\n",
    "tree = ET.parse(file_path, parser=xmlp)\n",
    "root = tree.getroot()"
   ],
   "outputs": [],
   "metadata": {}
  },
  {
   "cell_type": "code",
   "execution_count": 9,
   "source": [
    "docs = []\n",
    "\n",
    "for doc in root.iter('transcript'):\n",
    "    docs.append(doc.text)"
   ],
   "outputs": [],
   "metadata": {}
  },
  {
   "cell_type": "code",
   "execution_count": 11,
   "source": [
    "train_texts = [re.sub(r'\\s+', ' ', d.replace('\\n', ' ')).strip() for d in docs]\n",
    "\n",
    "\n",
    "with open(data_path + 'train_texts.txt', 'w', encoding='utf-8') as f:\n",
    "    for text in train_texts:\n",
    "        f.write(text + '\\n')\n"
   ],
   "outputs": [
    {
     "output_type": "stream",
     "name": "stdout",
     "text": [
      "It can be a very complicated thing, the ocean. And it can be a very complicated thing, what human health is. And bringing those two together might seem a very daunting task, but what I'm going to try to say is that even in that complexity, there's some simple themes that I think, if we understand, we can really move forward. And those simple themes aren't really themes about the complex science of what's going on, but things that we all pretty well know. And I'm going to start with this one: If momma ain't happy, ain't nobody happy. We know that, right? We've experienced that. And if we just take that and we build from there, then we can go to the next step, which is that if the ocean ain't happy, ain't nobody happy. That's the theme of my talk. And we're making the ocean pretty unhappy in a lot of different ways. This is a shot of Cannery Row in 1932. Cannery Row, at the time, had the biggest industrial canning operation on the west coast. We piled enormous amounts of pollution into the air and into the water. Rolf Bolin, who was a professor at the Hopkin's Marine Station where I work, wrote in the 1940s that \"The fumes from the scum floating on the inlets of the bay were so bad they turned lead-based paints black.\" People working in these canneries could barely stay there all day because of the smell, but you know what they came out saying? They say, \"You know what you smell? You smell money.\" That pollution was money to that community, and those people dealt with the pollution and absorbed it into their skin and into their bodies because they needed the money. We made the ocean unhappy; we made people very unhappy, and we made them unhealthy. The connection between ocean health and human health is actually based upon another couple simple adages, and I want to call that \"pinch a minnow, hurt a whale.\" The pyramid of ocean life ... Now, when an ecologist looks at the ocean -- I have to tell you -- we look at the ocean in a very different way, and we see different things than when a regular person looks at the ocean because when an ecologist looks at the ocean, we see all those interconnections. We see the base of the food chain, the plankton, the small things, and we see how those animals are food to animals in the middle of the pyramid, and on so up this diagram. And that flow, that flow of life, from the very base up to the very top, is the flow that ecologists see. And that's what we're trying to preserve when we say, \"Save the ocean. Heal the ocean.\" It's that pyramid. Now why does that matter for human health? Because when we jam things in the bottom of that pyramid that shouldn't be there, some very frightening things happen. Pollutants, some pollutants have been created by us: molecules like PCBs that can't be broken down by our bodies. And they go in the base of that pyramid, and they drift up; they're passed up that way, on to predators and on to the top predators, and in so doing, they accumulate. Now, to bring that home, I thought I'd invent a little game. We don't really have to play it; we can just think about it here. It's the Styrofoam and chocolate game. Imagine that when we got on this boat, we were all given two Styrofoam peanuts. Can't do much with them: Put them in your pocket. Suppose the rules are: every time you offer somebody a drink, you give them the drink, and you give them your Styrofoam peanuts too. What'll happen is that the Styrofoam peanuts will start moving through our society here, and they will accumulate in the drunkest, stingiest people. There's no mechanism in this game for them to go anywhere but into a bigger and bigger pile of indigestible Styrofoam peanuts. And that's exactly what happens with PDBs in this food pyramid: They accumulate into the top of it. Now suppose, instead of Styrofoam peanuts, we take these lovely little chocolates that we get and we had those instead. Well, some of us would be eating those chocolates instead of passing them around, and instead of accumulating, they will just pass into our group here and not accumulate in any one group because they're absorbed by us. And that's the difference between a PCB and, say, something natural like an omega-3, something we want out of the marine food chain. PCBs accumulate. We have great examples of that, unfortunately. PCBs accumulate in dolphins in Sarasota Bay, in Texas, in North Carolina. They get into the food chain. The dolphins eat the fish that have PCBs from the plankton, and those PCBs, being fat-soluble, accumulate in these dolphins. Now, a dolphin, mother dolphin, any dolphin -- there's only one way that a PCB can get out of a dolphin. And what's that? In mother's milk. Here's a diagram of the PCB load of dolphins in Sarasota Bay. Adult males: a huge load. Juveniles: a huge load. Females after their first calf is already weaned: a lower load. Those females, they're not trying to. Those females are passing the PCBs in the fat of their own mother's milk into their offspring, and their offspring don't survive. The death rate in these dolphins, for the first calf born of every female dolphin, is 60 to 80 percent. These mothers pump their first offspring full of this pollutant, and most of them die. Now, the mother then can go and reproduce, but what a terrible price to pay for the accumulation of this pollutant in these animals -- the death of the first-born calf. There's another top predator in the ocean, it turns out. That top predator, of course, is us. And we also are eating meat that comes from some of these same places. This is whale meat that I photographed in a grocery store in Tokyo -- or is it? In fact, what we did a few years ago was learn how to smuggle a molecular biology lab into Tokyo and use it to genetically test the DNA out of whale meat samples and identify what they really were. And some of those whale meat samples were whale meat. Some of them were illegal whale meat, by the way. That's another story. But some of them were not whale meat at all. Even though they were labeled whale meat, they were dolphin meat. Some of them were dolphin liver. Some of them were dolphin blubber. And those dolphin parts had a huge load of PCBs, dioxins and heavy metals. And that huge load was passing into the people that ate this meat. It turns out that a lot of dolphins are being sold as meat in the whale meat market around the world. That's a tragedy for those populations, but it's also a tragedy for the people eating them because they don't know that that's toxic meat. We had these data a few years ago. I remember sitting at my desk being about the only person in the world who knew that whale meat being sold in these markets was really dolphin meat, and it was toxic. It had two-to-three-to-400 times the toxic loads ever allowed by the EPA. And I remember there sitting at my desk thinking, \"Well, I know this. This is a great scientific discovery,\" but it was so awful. And for the very first time in my scientific career, I broke scientific protocol, which is that you take the data and publish them in scientific journals and then begin to talk about them. We sent a very polite letter to the Minister of Health in Japan and simply pointed out that this is an intolerable situation, not for us, but for the people of Japan because mothers who may be breastfeeding, who may have young children, would be buying something that they thought was healthy, but it was really toxic. That led to a whole series of other campaigns in Japan, and I'm really proud to say that at this point, it's very difficult to buy anything in Japan that's labeled incorrectly, even though they're still selling whale meat, which I believe they shouldn't. But at least it's labeled correctly, and you're no longer going to be buying toxic dolphin meat instead. It isn't just there that this happens, but in a natural diet of some communities in the Canadian arctic and in the United States and in the European arctic, a natural diet of seals and whales leads to an accumulation of PCBs that have gathered up from all parts of the world and ended up in these women. These women have toxic breast milk. They cannot feed their offspring, their children, their breast milk because of the accumulation of these toxins in their food chain, in their part of the world's ocean pyramid. That means their immune systems are compromised. It means that their children's development can be compromised. And the world's attention on this over the last decade has reduced the problem for these women, not by changing the pyramid, but by changing what they particularly eat out of it. We've taken them out of their natural pyramid in order to solve this problem. That's a good thing for this particular acute problem, but it does nothing to solve the pyramid problem. There's other ways of breaking the pyramid. The pyramid, if we jam things in the bottom, can get backed up like a sewer line that's clogged. And if we jam nutrients, sewage, fertilizer in the base of that food pyramid, it can back up all through it. We end up with things we've heard about before: red tides, for example, which are blooms of toxic algae floating through the oceans causing neurological damage. We can also see blooms of bacteria, blooms of viruses in the ocean. These are two shots of a red tide coming on shore here and a bacteria in the genus vibrio, which includes the genus that has cholera in it. How many people have seen a \"beach closed\" sign? Why does that happen? It happens because we have jammed so much into the base of the natural ocean pyramid that these bacteria clog it up and overfill onto our beaches. Often what jams us up is sewage. Now how many of you have ever gone to a state park or a national park where you had a big sign at the front saying, \"Closed because human sewage is so far over this park that you can't use it\"? Not very often. We wouldn't tolerate that. We wouldn't tolerate our parks being swamped by human sewage, but beaches are closed a lot in our country. They're closed more and more and more all around the world for the same reason, and I believe we shouldn't tolerate that either. It's not just a question of cleanliness; it's also a question of how those organisms then turn into human disease. These vibrios, these bacteria, can actually infect people. They can go into your skin and create skin infections. This is a graph from NOAA's ocean and human health initiative, showing the rise of the infections by vibrio in people over the last few years. Surfers, for example, know this incredibly. And if you can see on some surfing sites, in fact, not only do you see what the waves are like or what the weather's like, but on some surf rider sites, you see a little flashing poo alert. That means that the beach might have great waves, but it's a dangerous place for surfers to be because they can carry with them, even after a great day of surfing, this legacy of an infection that might take a very long time to solve. Some of these infections are actually carrying antibiotic resistance genes now, and that makes them even more difficult. These same infections create harmful algal blooms. Those blooms are generating other kinds of chemicals. This is just a simple list of some of the types of poisons that come out of these harmful algal blooms: shellfish poisoning,fish ciguatera, diarrheic shellfish poisoning -- you don't want to know about that -- neurotoxic shellfish poisoning, paralytic shellfish poisoning. These are things that are getting into our food chain because of these blooms. Rita Calwell very famously traced a very interesting story of cholera into human communities, brought there, not by a normal human vector, but by a marine vector, this copepod. Copepods are small crustaceans. They're a tiny fraction of an inch long, and they can carry on their little legs some of the cholera bacteria that then leads to human disease. That has sparked cholera epidemics in ports along the world and has led to increased concentration on trying to make sure shipping doesn't move these vectors of cholera around the world. So what do you do? We have major problems in disrupted ecosystem flow that the pyramid may not be working so well, that the flow from the base up into it is being blocked and clogged. What do you do when you have this sort of disrupted flow? Well, there's a bunch of things you could do. You could call Joe the Plumber, for example. And he could come in and fix the flow. But in fact, if you look around the world, not only are there hope spots for where we may be able to fix problems, there have been places where problems have been fixed, where people have come to grips with these issues and begun to turn them around. Monterey is one of those. I started out showing how much we had distressed the Monterey Bay ecosystem with pollution and the canning industry and all of the attendant problems. In 1932, that's the picture. In 2009, the picture is dramatically different. The canneries are gone. The pollution has abated. But there's a greater sense here that what the individual communities need is working ecosystems. They need a functioning pyramid from the base all the way to the top. And that pyramid in Monterey, right now, because of the efforts of a lot of different people, is functioning better than it's ever functioned for the last 150 years. It didn't happen accidentally. It happened because many people put their time and effort and their pioneering spirit into this. On the left there, Julia Platt, the mayor of my little hometown in Pacific Grove. At 74 years old, became mayor because something had to be done to protect the ocean. In 1931, she produced California's first community-based marine protected area, right next to the biggest polluting cannery, because Julia knew that when the canneries eventually were gone, the ocean needed a place to grow from, that the ocean needed a place to spark a seed, and she wanted to provide that seed. Other people, like David Packard and Julie Packard, who were instrumental in producing the Monterey Bay aquarium to lock into people's notion that the ocean and the health of the ocean ecosystem were just as important to the economy of this area as eating the ecosystem would be. That change in thinking has led to a dramatic shift, not only in the fortunes of Monterey Bay, but other places around the world. Well, I want to leave you with the thought that what we're really trying to do here is protect this ocean pyramid, and that ocean pyramid connects to our own pyramid of life. It's an ocean planet, and we think of ourselves as a terrestrial species, but the pyramid of life in the ocean and our own lives on land are intricately connected. And it's only through having the ocean being healthy that we can remain healthy ourselves. Thank you very much.\n"
     ]
    },
    {
     "output_type": "execute_result",
     "data": {
      "text/plain": [
       "\"\\nwith open(data_path + 'train_texts.txt', 'w', encoding='utf-8') as f:\\n    for text in train_texts:\\n        f.write(text + '\\n')\\n\""
      ]
     },
     "metadata": {},
     "execution_count": 11
    }
   ],
   "metadata": {}
  },
  {
   "cell_type": "code",
   "execution_count": null,
   "source": [],
   "outputs": [],
   "metadata": {}
  }
 ],
 "metadata": {
  "kernelspec": {
   "name": "python3",
   "display_name": "Python 3.9.6 64-bit"
  },
  "language_info": {
   "codemirror_mode": {
    "name": "ipython",
    "version": 3
   },
   "file_extension": ".py",
   "mimetype": "text/x-python",
   "name": "python",
   "nbconvert_exporter": "python",
   "pygments_lexer": "ipython3",
   "version": "3.9.6"
  },
  "interpreter": {
   "hash": "767d51c1340bd893661ea55ea3124f6de3c7a262a8b4abca0554b478b1e2ff90"
  }
 },
 "nbformat": 4,
 "nbformat_minor": 4
}